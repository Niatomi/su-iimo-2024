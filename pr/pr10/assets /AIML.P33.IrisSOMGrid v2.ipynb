{
 "cells": [
  {
   "cell_type": "code",
   "execution_count": null,
   "id": "d08e8460-344f-4103-b392-f04e484f9f0b",
   "metadata": {},
   "outputs": [],
   "source": [
    "import pandas as pd\n",
    "import numpy as np\n",
    "import networkx as nx"
   ]
  },
  {
   "cell_type": "code",
   "execution_count": null,
   "id": "6fabd338-b9b5-4478-8681-eef25effe5ad",
   "metadata": {},
   "outputs": [],
   "source": [
    "import holoviews as hv\n",
    "import panel as pn\n",
    "import hvplot\n",
    "import hvplot.pandas\n",
    "from holoviews import opts\n",
    "hv.extension('bokeh')\n",
    "defaults = dict(width=400, height=400)\n",
    "hv.opts.defaults(\n",
    "    opts.EdgePaths(**defaults), opts.Graph(**defaults), opts.Nodes(**defaults))"
   ]
  },
  {
   "cell_type": "code",
   "execution_count": null,
   "id": "aa07ce53-ecf0-4fe4-be5f-1eff02863dd8",
   "metadata": {},
   "outputs": [],
   "source": [
    "from sklearn.datasets import load_iris\n",
    "\n",
    "iris = load_iris(as_frame=True)\n",
    "x_label='sepal length (cm)'\n",
    "y_label='petal length (cm)'\n",
    "cols = list(iris.frame.columns)[:-1]\n",
    "df=iris.frame"
   ]
  },
  {
   "cell_type": "code",
   "execution_count": null,
   "id": "2eb3d583-9922-4bf4-bea3-6652a4ccdfde",
   "metadata": {},
   "outputs": [],
   "source": [
    "from sklearn import preprocessing\n",
    "from sklearn.preprocessing import StandardScaler\n",
    "X = df.iloc[:,0:4]\n",
    "X = StandardScaler().fit_transform(X)\n",
    "labels=df['target']"
   ]
  },
  {
   "cell_type": "code",
   "execution_count": null,
   "id": "d6516c82-ef05-4d7b-aece-88a5e200d798",
   "metadata": {},
   "outputs": [],
   "source": [
    "from sklearn.discriminant_analysis import LinearDiscriminantAnalysis\n",
    "lda = LinearDiscriminantAnalysis(n_components=2, store_covariance=True) \n",
    "lda.fit(X, df['target'])\n",
    "X = lda.transform(X)"
   ]
  },
  {
   "cell_type": "code",
   "execution_count": null,
   "id": "1b57004e-ead5-4345-b0ea-460ac09eaf81",
   "metadata": {},
   "outputs": [],
   "source": [
    "X_df=pd.DataFrame(X,columns= ['X','Y'])\n",
    "X_df['labels']=labels\n",
    "colors=['blue','green','orange','gray']\n",
    "colors1=['gray','blue','green','orange']"
   ]
  },
  {
   "cell_type": "code",
   "execution_count": null,
   "id": "ad557cd2-148d-4e76-a54a-c39ea42cd013",
   "metadata": {},
   "outputs": [],
   "source": [
    "data_plot=X_df.hvplot.scatter('X', 'Y', by='labels', marker='o', size=100, color=colors  ).opts(\n",
    "                                height=500, width=700,\n",
    "                                tools=['hover'],  toolbar= 'left',\n",
    "                                title=\"Пространство признаков\", legend_position='right', show_grid=True,\n",
    "                               \n",
    "    )\n",
    "data_plot"
   ]
  },
  {
   "cell_type": "code",
   "execution_count": null,
   "id": "341c6deb-9869-462b-bbff-2d2e40e0b115",
   "metadata": {},
   "outputs": [],
   "source": [
    "# Set random weights with the same dimensions as the data\n",
    "grid_size = int(np.ceil(np.sqrt(X.shape[0])))\n",
    "d = 1\n",
    "xx = np.linspace(-d, d, grid_size)\n",
    "yy = np.linspace(-d, d, grid_size)\n",
    "W = np.array([[x, y] for y in yy for x in xx])"
   ]
  },
  {
   "cell_type": "code",
   "execution_count": null,
   "id": "1c12d707-25d6-4dc0-adcd-8f1c0cd3360d",
   "metadata": {},
   "outputs": [],
   "source": [
    "# Use networkx to define topology and neighbourhood connections\n",
    "# The i'th row of the weights maps to the i'th node in the network\n",
    "# Using a lattice as an example\n",
    "G = nx.grid_2d_graph(m=grid_size, n=grid_size)\n",
    "position = nx.spring_layout(G, scale=1)\n",
    "\n",
    "# Map coordinates to index and index to coordinates\n",
    "c2i = {c: i for i, c in enumerate(G.nodes())}\n",
    "i2c = {v: k for k, v in c2i.items()}\n",
    "# If there are more nodes than weights, append difference to match size\n",
    "\n",
    "diff = np.abs(len(G.nodes()) - W.shape[0])\n",
    "if diff > 0:\n",
    "    W = np.concatenate([W, np.random.random(size=(diff, W.shape[1]))])"
   ]
  },
  {
   "cell_type": "code",
   "execution_count": null,
   "id": "4b97cc8b-00a9-4d1d-9ca1-e1d66e68963e",
   "metadata": {},
   "outputs": [],
   "source": [
    "for i, c in enumerate(G.nodes()):\n",
    "    position[c]=np.array(W[i])\n",
    "node_plot=hv.Graph.from_networkx(G, position)\n",
    "node_plot.opts(inspection_policy='nodes', edge_color='gray', edge_hover_line_color='black', edge_alpha=0.5,\n",
    "               node_color='gray', node_hover_fill_color='black', node_alpha=0.5,\n",
    "               node_size=10 )\n",
    "data_plot*node_plot"
   ]
  },
  {
   "cell_type": "code",
   "execution_count": null,
   "id": "82f1ed4c-b302-4a2c-b1ef-578be352009d",
   "metadata": {},
   "outputs": [],
   "source": [
    "# Function for learning rate\n",
    "def f1(x, k):\n",
    "    return np.exp(x * k)\n",
    "\n",
    "# Function for neighbourhood restraint\n",
    "def f2(x, s):\n",
    "    return np.exp(-(x / (s ** 2)))\n",
    "\n",
    "# Compute learning rate\n",
    "def learning_rate(s, k):\n",
    "    return f1(x=s, k=k)\n",
    "\n",
    "# Compute neighbourhood restraint\n",
    "def restraint(G, best, n, sigma=1):\n",
    "    dist = nx.shortest_path_length(G, source=best, target=n)\n",
    "    return f2(dist, s=sigma)"
   ]
  },
  {
   "cell_type": "code",
   "execution_count": null,
   "id": "7044f37d-fb55-4e3b-942f-a4ce228fdf4d",
   "metadata": {},
   "outputs": [],
   "source": [
    "import time\n",
    "import progressbar\n",
    "\n",
    "# Keep track of which unit (neuron) won what\n",
    "winners = {i: [] for i in range(W.shape[0])}\n",
    "\n",
    "max_iter = 15000 # 10000\n",
    "\n",
    "weights = []\n",
    "weights.append(np.copy(W))\n",
    "\n",
    "with progressbar.ProgressBar(max_value=max_iter, enable_colors=False) as bar:\n",
    "    # Start training loop\n",
    "    for s in range(max_iter):\n",
    "        bar.next()\n",
    "        # Pick random data point\n",
    "        r_idx = np.random.randint(X.shape[0])\n",
    "        x = X[r_idx, :]\n",
    "    \n",
    "        # Find the best matching unit (BMU) using Euclidean distance\n",
    "        x_stack = np.stack([x]*W.shape[0], axis=0)\n",
    "        dists = np.linalg.norm(x_stack - W, axis=1)\n",
    "        best_idx = np.argmin(dists)\n",
    "    \n",
    "        # Set learning rate\n",
    "        k = -(1/1000) #1000\n",
    "        a = learning_rate(s, k)\n",
    "        \n",
    "        \n",
    "        # Update weights\n",
    "        W[best_idx, :] = W[best_idx, :] + a * (x - W[best_idx, :])\n",
    "        \n",
    "    \n",
    "        # Add the index of the data point to the \"won\" list\n",
    "        winners[best_idx].append(r_idx)\n",
    "    \n",
    "        \n",
    "        # Update weights of neighbours\n",
    "        immediate_n = list(G[i2c[best_idx]])\n",
    "        for n in immediate_n:\n",
    "           W[c2i[n], :] = W[c2i[n], :] + restraint(G, i2c[best_idx], n) * a * (x - W[c2i[n], :])\n",
    "        \n",
    "    \n",
    "        # #Update all weights\n",
    "        # for n in G.nodes():\n",
    "        #      W[c2i[n], :] = W[c2i[n], :] + restraint(G, i2c[best_idx], n) * a * (x - W[c2i[n], :])\n",
    "            \n",
    "        weights.append(np.copy(W))"
   ]
  },
  {
   "cell_type": "code",
   "execution_count": null,
   "id": "a7d24a9b-0f9c-496c-aac2-f0d51cfb2b03",
   "metadata": {},
   "outputs": [],
   "source": [
    "n_iter = pn.widgets.IntSlider(name='Итерация', start=0, end=max_iter-1, value=0,  width = 250)\n",
    "\n",
    "def get_net(n_iter):\n",
    "    Net_weights=weights[n_iter]\n",
    "    for i, c in enumerate(G.nodes()):\n",
    "        position[c]=np.array(Net_weights[i])\n",
    "    node_plot=hv.Graph.from_networkx(G, position)\n",
    "    node_plot.opts(inspection_policy='nodes', edge_color='gray', edge_hover_line_color='black', edge_alpha=0.5,\n",
    "               node_color='gray', node_hover_fill_color='black', node_alpha=0.5,\n",
    "               node_size=10 )\n",
    "    return (data_plot*node_plot)\n",
    "\n",
    "pn.Row(\n",
    "       \n",
    "    pn.pane.HoloViews(\n",
    "        pn.bind(get_net, n_iter)\n",
    "    ).servable(),\n",
    "    pn.WidgetBox(\n",
    "        pn.Column(\n",
    "            \"Карта Кононена\",\n",
    "            n_iter,\n",
    "            height = 400,\n",
    "            ).servable(target='sidebar')\n",
    "    ),\n",
    ")\n",
    "    \n",
    "    "
   ]
  },
  {
   "cell_type": "code",
   "execution_count": null,
   "id": "65bfaeff-3f36-4f5a-8995-212af8468ce4",
   "metadata": {},
   "outputs": [],
   "source": [
    "# Match unit to most \"won\" data point, else sign no label\n",
    "def best_match(idxs):\n",
    "    idx = None\n",
    "    if len(idxs) > 0:\n",
    "        idx = max(idxs, key=idxs.count)\n",
    "    \n",
    "    return idx\n",
    "\n",
    "unit_match = {i: best_match(idxs) for i, idxs in winners.items()}\n",
    "\n",
    "# Match unit with the label, if assigned index\n",
    "unit_label = {i: labels[idx] for i, idx in unit_match.items() if idx}\n",
    "\n",
    "# Plot the results as a scatter plot (optional, try heat map)\n",
    "results = np.array([list(i2c[k]) for k in unit_label.keys()])\n",
    "pred = list(unit_label.values())\n",
    "\n",
    "unit_wins= [(i2c[k]) for k in unit_label.keys()]\n",
    "unit_lose= set(G.nodes) - set(unit_wins)\n",
    "\n",
    "node_lose= dict.fromkeys(unit_lose, -1)\n",
    "node_wins = dict(zip(unit_wins, pred))"
   ]
  },
  {
   "cell_type": "code",
   "execution_count": null,
   "id": "569ae674-ff6e-4e95-8e7d-8ab4e7dd0183",
   "metadata": {},
   "outputs": [],
   "source": [
    "#nx.get_node_attributes(G,'cluster')"
   ]
  },
  {
   "cell_type": "code",
   "execution_count": null,
   "id": "a9d9628b-81de-4507-87c4-fdd5195ca8c0",
   "metadata": {},
   "outputs": [],
   "source": [
    "nx.set_node_attributes(G, node_lose | node_wins, 'cluster')\n",
    "node_plot=hv.Graph.from_networkx(G, position)\n",
    "node_plot.opts(inspection_policy='nodes', edge_color='gray', edge_hover_line_color='black', edge_alpha=0.5,\n",
    "                node_hover_fill_color='black', node_alpha=0.95,\n",
    "               node_size=10, node_color='cluster', cmap=colors1)\n",
    "data_plot*node_plot"
   ]
  },
  {
   "cell_type": "code",
   "execution_count": null,
   "id": "408af355-c2ab-46cf-80b6-0408a2a78160",
   "metadata": {},
   "outputs": [],
   "source": [
    "print(\"Missing nodes:\")\n",
    "print([i2c[k] for k, v in unit_match.items() if not v])"
   ]
  },
  {
   "cell_type": "code",
   "execution_count": null,
   "id": "b4b2b2cb-a1e4-4312-b697-17852744622d",
   "metadata": {},
   "outputs": [],
   "source": [
    "win_labels_df=pd.DataFrame( [(i2c[i]+(i,))  for i, v in unit_match.items() if v], columns=['X','Y','Text'])\n",
    "lose_labels_df=pd.DataFrame( [(i2c[i]+(i,))  for i, v in unit_match.items() if not v], columns=['X','Y','Text'])"
   ]
  },
  {
   "cell_type": "code",
   "execution_count": null,
   "id": "0e819935-c85a-4ce6-834d-b2c383d63535",
   "metadata": {},
   "outputs": [],
   "source": [
    "res_df=pd.DataFrame(results,columns= ['X','Y'])\n",
    "res_df['labels']=pred\n",
    "res_plot=res_df.hvplot.scatter('X', 'Y', by='labels', marker='o', size=200, color=colors).opts(\n",
    "                                height=500, width=700,\n",
    "                                tools=['hover'],  toolbar= 'left',\n",
    "                                title=\"Карта Кохонена\", legend_position='right', show_grid=True,\n",
    "                               \n",
    "    )\n",
    "win_labels_plot=hv.Labels(win_labels_df, kdims=['X','Y'], vdims=['Text']).opts(text_font_size='6pt', text_color ='cyan')\n",
    "lose_plot=hv.Labels(lose_labels_df, kdims=['X','Y'], vdims=['Text']).opts(text_font_size='6pt', text_color ='red')\n",
    "res_plot*win_labels_plot*lose_plot"
   ]
  },
  {
   "cell_type": "code",
   "execution_count": null,
   "id": "626ae0b5-b281-45a1-b382-385111709131",
   "metadata": {},
   "outputs": [],
   "source": [
    "from sklearn.model_selection import train_test_split\n",
    "from sklearn.metrics import classification_report\n",
    "X_s=StandardScaler().fit_transform(df.iloc[:,0:4])"
   ]
  },
  {
   "cell_type": "code",
   "execution_count": null,
   "id": "0354e6cd-9eef-423b-9915-7f7a5010c61b",
   "metadata": {},
   "outputs": [],
   "source": [
    "#!pip install minisom"
   ]
  },
  {
   "cell_type": "code",
   "execution_count": null,
   "id": "50abc0c1-9d7e-4d15-bfa6-c5df32e7454f",
   "metadata": {},
   "outputs": [],
   "source": [
    "from minisom import MiniSom\n",
    "m=10\n",
    "n=10\n",
    "som = MiniSom(m, n, 4, sigma=3, learning_rate=0.1, neighborhood_function='triangle', random_seed=10)\n",
    "som.pca_weights_init(X_s)\n",
    "som.train_random(X_s, 1000, verbose=0)"
   ]
  },
  {
   "cell_type": "code",
   "execution_count": null,
   "id": "80f2bcca-d01f-4531-a1a7-2d135100d011",
   "metadata": {},
   "outputs": [],
   "source": [
    "def classify(som, data):\n",
    "    \"\"\"Classifies each sample in data in one of the classes definited\n",
    "    using the method labels_map.\n",
    "    Returns a list of the same length of data where the i-th element\n",
    "    is the class assigned to data[i].\n",
    "    \"\"\"\n",
    "    winmap = som.labels_map(X_s, labels)\n",
    "    default_class = np.sum(list(winmap.values())).most_common()[0][0]\n",
    "    result = []\n",
    "    for d in data:\n",
    "        win_position = som.winner(d)\n",
    "        if win_position in winmap:\n",
    "            result.append(winmap[win_position].most_common()[0][0])\n",
    "        else:\n",
    "            result.append(default_class)\n",
    "    return result"
   ]
  },
  {
   "cell_type": "code",
   "execution_count": null,
   "id": "0ea33a10-9e7b-4b0c-8749-b4fe80955fff",
   "metadata": {},
   "outputs": [],
   "source": [
    "print(classification_report(labels, classify(som, X_s)))"
   ]
  },
  {
   "cell_type": "code",
   "execution_count": null,
   "id": "93060f86-8e88-4f7a-927c-950c79616b00",
   "metadata": {},
   "outputs": [],
   "source": [
    "m_size=25\n",
    "d_map=som.distance_map().T\n",
    "map_plot=hv.Image(d_map, bounds=(0,0,n,m))\n",
    "map_plot.opts(title=\"Карта Кохонена\", height=n*m_size, width=m*m_size,  cmap='hot', colorbar=True)\n",
    "win_map=[(som.winner(xx)[0]+0.5,som.winner(xx)[1]+0.5) for cnt, xx in enumerate(X_s)]\n",
    "win_df=pd.DataFrame(win_map,columns= ['X','Y'])\n",
    "win_df['labels']=labels\n",
    "win_plot=win_df.hvplot.scatter('X', 'Y', by='labels', marker='o', size=150, color=colors).opts(\n",
    "                                \n",
    "                                tools=['hover'],  toolbar= 'left',\n",
    "                                title=\"Пространство признаков\", legend_position='right', show_grid=True,\n",
    "                               \n",
    "    )\n",
    "(map_plot*win_plot).opts(height=500, width=700 )"
   ]
  },
  {
   "cell_type": "code",
   "execution_count": null,
   "id": "8564b51f-8ce0-4e6c-845b-27f6aad0f59d",
   "metadata": {},
   "outputs": [],
   "source": [
    "def som_fit(X, n_clusters):\n",
    "    som_shape = (1, n_clusters)\n",
    "    som = MiniSom(som_shape[0], som_shape[1], X.shape[1], sigma=.5, learning_rate=.5,\n",
    "                  neighborhood_function='gaussian', random_seed=12345)\n",
    "    epochs = 5000\n",
    "    som.train_batch(X, epochs, verbose=False)\n",
    "    return (som)"
   ]
  },
  {
   "cell_type": "code",
   "execution_count": null,
   "id": "be2a1aea-7a89-4c15-b61f-6d557f25b5dd",
   "metadata": {},
   "outputs": [],
   "source": [
    "x_label='sepal length (cm)'\n",
    "y_label='petal width (cm)'"
   ]
  },
  {
   "cell_type": "code",
   "execution_count": null,
   "id": "56f07e70-1829-4612-834d-76d68f29d8eb",
   "metadata": {},
   "outputs": [],
   "source": [
    "x = pn.widgets.Select(name='x', options=cols, value = x_label)\n",
    "y = pn.widgets.Select(name='y', options=cols, value = y_label)\n",
    "\n",
    "n_clusters = pn.widgets.IntSlider(name='n_clusters', start=1, end=12, value=3)\n",
    "check = pn.widgets.Checkbox (name='Исходные классы', value = False)\n",
    "\n",
    "np.random.seed(1234)\n",
    "\n",
    "def get_clusters(x, y, n_clusters, check):\n",
    "    \n",
    "    som = som_fit(X, n_clusters)\n",
    "    som_shape = (1, n_clusters)\n",
    "    winner_coordinates = np.array([som.winner(x) for x in X]).T\n",
    "       \n",
    "    df['cluster'] = np.ravel_multi_index(winner_coordinates, som_shape)\n",
    "    cluster_centers = df.groupby('cluster')[[x] if x == y else [x, y]].mean()\n",
    "    \n",
    "    cluster_plot=df.hvplot.scatter(x, y, by='cluster', marker='o', size=100,  color=['orange', 'blue', 'green', 'cyan', 'magenta', 'yellow', 'red'])\n",
    "    \n",
    "    class_plot=df.hvplot.scatter(x, y, by='target', marker='o', size=50,  color=['blue', 'orange', 'green'])\n",
    "    \n",
    "    cluster_centers_plot= hv.Scatter(cluster_centers,  label='Cluster centers')\n",
    "    cluster_centers_plot.opts(color='k', marker='x', size=15, line_width=5)\n",
    "    \n",
    "    centers = df.groupby('target')[[x] if x == y else [x, y]].mean()\n",
    "    centers_plot= hv.Scatter(centers,  label='Class centers')\n",
    "    centers_plot.opts( marker='x', size=15, line_width=5, color='red')\n",
    "    \n",
    "    #* class_plot*  centers_plot\n",
    "    fig =  (cluster_plot  * class_plot * cluster_centers_plot * centers_plot) if check else (cluster_plot  * cluster_centers_plot)\n",
    "    fig.opts(xlabel=x, ylabel=y, width=600, height=500, tools=['hover'], \n",
    "             title=\"Iris K-Means++ Clustering\", legend_position='top_left', show_grid=True)\n",
    "    return ( fig  )\n",
    "    \n",
    "\n",
    "pn.Row(\n",
    "    pn.pane.HoloViews(\n",
    "        pn.bind(get_clusters, x, y, n_clusters, check)\n",
    "    ).servable(),\n",
    "    \n",
    "    pn.WidgetBox(\n",
    "        pn.Column(\n",
    "            \"Признаки\",\n",
    "            x, y, check, \n",
    "            \"Кластеризация SOM\",\n",
    "            n_clusters\n",
    "        ).servable(target='sidebar')\n",
    "    ),\n",
    ")"
   ]
  },
  {
   "cell_type": "code",
   "execution_count": null,
   "id": "f9c5b4bd-2dcb-441e-ba56-18c584b6eaf0",
   "metadata": {},
   "outputs": [],
   "source": []
  }
 ],
 "metadata": {
  "kernelspec": {
   "display_name": "Python 3 (ipykernel)",
   "language": "python",
   "name": "python3"
  },
  "language_info": {
   "codemirror_mode": {
    "name": "ipython",
    "version": 3
   },
   "file_extension": ".py",
   "mimetype": "text/x-python",
   "name": "python",
   "nbconvert_exporter": "python",
   "pygments_lexer": "ipython3",
   "version": "3.12.4"
  }
 },
 "nbformat": 4,
 "nbformat_minor": 5
}
