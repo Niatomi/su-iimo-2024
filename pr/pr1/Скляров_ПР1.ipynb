{
 "cells": [
  {
   "cell_type": "markdown",
   "metadata": {},
   "source": [
    "### \"Overcast\", \"Mild\", \"Normal\", \"Strong\"\n"
   ]
  },
  {
   "cell_type": "code",
   "execution_count": 1,
   "metadata": {},
   "outputs": [],
   "source": [
    "p_total_play_yes = 9 / 14\n",
    "p_total_play_no = 5 / 14"
   ]
  },
  {
   "cell_type": "markdown",
   "metadata": {},
   "source": [
    "### Outlook Overcast\n"
   ]
  },
  {
   "cell_type": "code",
   "execution_count": 2,
   "metadata": {},
   "outputs": [],
   "source": [
    "p_outlook_yes = 4 / 9\n",
    "p_outlook_no = 0"
   ]
  },
  {
   "cell_type": "markdown",
   "metadata": {},
   "source": [
    "### Temperature Mild\n"
   ]
  },
  {
   "cell_type": "code",
   "execution_count": 3,
   "metadata": {},
   "outputs": [],
   "source": [
    "p_temperature_yes = 4 / 9\n",
    "p_temperature_no = 2 / 5"
   ]
  },
  {
   "cell_type": "markdown",
   "metadata": {},
   "source": [
    "### Humidity Normal\n"
   ]
  },
  {
   "cell_type": "code",
   "execution_count": 4,
   "metadata": {},
   "outputs": [],
   "source": [
    "p_humidity_yes = 6 / 9\n",
    "p_humidity_no = 1 / 5"
   ]
  },
  {
   "cell_type": "markdown",
   "metadata": {},
   "source": [
    "### Wind Strong\n"
   ]
  },
  {
   "cell_type": "code",
   "execution_count": 5,
   "metadata": {},
   "outputs": [],
   "source": [
    "p_wind_yes = 3 / 9\n",
    "p_wind_no = 3 / 5"
   ]
  },
  {
   "cell_type": "markdown",
   "metadata": {},
   "source": [
    "## P Count\n"
   ]
  },
  {
   "cell_type": "code",
   "execution_count": 6,
   "metadata": {},
   "outputs": [
    {
     "data": {
      "text/plain": [
       "0.028218694885361547"
      ]
     },
     "execution_count": 6,
     "metadata": {},
     "output_type": "execute_result"
    }
   ],
   "source": [
    "p_yes = (p_outlook_yes * p_temperature_yes *\n",
    "         p_humidity_yes * p_wind_yes) * p_total_play_yes\n",
    "p_yes"
   ]
  },
  {
   "cell_type": "code",
   "execution_count": 7,
   "metadata": {},
   "outputs": [
    {
     "data": {
      "text/plain": [
       "0.0"
      ]
     },
     "execution_count": 7,
     "metadata": {},
     "output_type": "execute_result"
    }
   ],
   "source": [
    "p_no = (p_outlook_no * p_temperature_no *\n",
    "        p_humidity_no * p_wind_no) * p_total_play_no\n",
    "p_no"
   ]
  },
  {
   "cell_type": "markdown",
   "metadata": {},
   "source": [
    "## Сделайте вывод! Запишите ответ."
   ]
  },
  {
   "cell_type": "markdown",
   "metadata": {},
   "source": [
    "### \"Overcast\", \"Mild\", \"Normal\", \"Strong\"\n",
    "\n",
    "'Play Tenis - Yes': 0.028218694885361547\n",
    "\n",
    "'Play Tenis - No': 0.0\n",
    "\n",
    "#### Вывод:\n",
    "Составляющая p_outlook_no равна нулю из-за чего значение полной вероятности также равно нулю для 'Play Tenis - No', \n",
    "что демонстирует либо недостаток входных данных для погоды 'Overcast', либо при такой погоде игра в тенис в любом случае состоится"
   ]
  }
 ],
 "metadata": {
  "kernelspec": {
   "display_name": "ssau3.10",
   "language": "python",
   "name": "python3"
  },
  "language_info": {
   "codemirror_mode": {
    "name": "ipython",
    "version": 3
   },
   "file_extension": ".py",
   "mimetype": "text/x-python",
   "name": "python",
   "nbconvert_exporter": "python",
   "pygments_lexer": "ipython3",
   "version": "3.10.14"
  }
 },
 "nbformat": 4,
 "nbformat_minor": 2
}
