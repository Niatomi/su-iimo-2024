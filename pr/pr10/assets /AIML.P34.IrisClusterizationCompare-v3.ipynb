{
 "cells": [
  {
   "cell_type": "code",
   "execution_count": null,
   "id": "2a4339b1",
   "metadata": {},
   "outputs": [],
   "source": [
    "import os\n",
    "os.environ[\"OMP_NUM_THREADS\"] = '1'\n",
    "\n",
    "import numpy as np\n",
    "import scipy as sp\n",
    "import matplotlib.pyplot as plt\n",
    "import pandas as pd\n",
    "import math\n",
    "import operator\n",
    "import seaborn as sns\n",
    "import matplotlib.pyplot as plt"
   ]
  },
  {
   "cell_type": "code",
   "execution_count": null,
   "id": "9299de4b",
   "metadata": {},
   "outputs": [],
   "source": [
    "from sklearn.datasets import load_iris\n",
    "\n",
    "iris = load_iris(as_frame=True)\n",
    "x_label='sepal length (cm)'\n",
    "y_label='petal length (cm)'\n",
    "cols = list(iris.frame.columns)[:-1]\n",
    "df=iris.frame"
   ]
  },
  {
   "cell_type": "markdown",
   "id": "673abdff",
   "metadata": {},
   "source": [
    "Оценка качества кластеризации"
   ]
  },
  {
   "cell_type": "code",
   "execution_count": null,
   "id": "6d442425",
   "metadata": {},
   "outputs": [],
   "source": [
    "from sklearn.cluster import KMeans, MiniBatchKMeans\n",
    "from sklearn.cluster import AgglomerativeClustering\n",
    "from sklearn.cluster import DBSCAN\n",
    "from sklearn.mixture import GaussianMixture\n",
    "from sklearn_som.som import SOM\n",
    "\n",
    "np.random.seed(1234)\n",
    "num_clusters = 3\n",
    "names = [ 'Kmeans', \n",
    "         'Single Linkage', 'Average Linkage', 'Complete Linkage', 'Ward Linkage', \n",
    "         \n",
    "         'DBSCAN (0.35)', 'DBSCAN (0.5)', 'DBSCAN (0.75)', 'DBSCAN (1.)',\n",
    "        \"Gaussian Mixture\", 'SOM']\n",
    "clusterizators = [\n",
    "    KMeans(n_clusters=num_clusters, init='k-means++', max_iter=100, n_init=10, verbose =0),\n",
    "    AgglomerativeClustering(n_clusters=num_clusters, linkage='single'),\n",
    "    AgglomerativeClustering(n_clusters=num_clusters, linkage='complete'),\n",
    "    AgglomerativeClustering(n_clusters=num_clusters, linkage='average'),\n",
    "    AgglomerativeClustering(n_clusters=num_clusters, linkage='ward'),\n",
    "    \n",
    "    DBSCAN(eps=0.35, min_samples=15),\n",
    "    DBSCAN(eps=0.5, min_samples=15),\n",
    "    DBSCAN(eps=0.75, min_samples=15),\n",
    "    DBSCAN(eps=1., min_samples=15),\n",
    "    GaussianMixture( n_components=num_clusters, covariance_type=\"full\"),\n",
    "    SOM(m=num_clusters, n=1, dim=4),\n",
    "    \n",
    "    \n",
    "]"
   ]
  },
  {
   "cell_type": "code",
   "execution_count": null,
   "id": "97fd059c",
   "metadata": {},
   "outputs": [],
   "source": [
    "from sklearn import metrics\n",
    "metrics_name = [ 'homogeneity_score', 'completeness_score', 'v_measure_score']\n",
    "    \n",
    "clustering_metrics = [\n",
    "       \n",
    "        metrics.homogeneity_score,\n",
    "        metrics.completeness_score,\n",
    "        metrics.v_measure_score   \n",
    "    ]"
   ]
  },
  {
   "cell_type": "code",
   "execution_count": null,
   "id": "ed8fcef4",
   "metadata": {},
   "outputs": [],
   "source": [
    "import time\n",
    "from sklearn import metrics\n",
    "from sklearn import preprocessing\n",
    "from sklearn.preprocessing import StandardScaler\n",
    "\n",
    "X = StandardScaler().fit_transform(df.iloc[:,0:4])\n",
    "\n",
    "res_df=pd.DataFrame(columns=['Metric'])\n",
    "res_df['Metric'] = np.array(['homogeneity_score', 'completeness_score', 'v_measure_score', 'time, ms'])\n",
    "\n",
    "fig = plt.figure(figsize=(12,12))\n",
    "size = 20\n",
    "ax = plt.subplot(4, 3, 1)\n",
    "ax.set_xlabel(x_label)             \n",
    "ax.set_ylabel(y_label)  \n",
    "plt.title('Actual data')\n",
    "dfr = pd.DataFrame(X)\n",
    "dfr.columns = cols\n",
    "dfr['class'] = df['target']\n",
    "\n",
    "for c, rows in dfr.groupby('class'):\n",
    "    plt.scatter(rows[x_label], rows[y_label], s = size)\n",
    "\n",
    "# iterate over clusterizators\n",
    "i = 2\n",
    "for name, cmodel in zip(names, clusterizators):\n",
    "    ax = plt.subplot(4, 3, i)\n",
    "    t0 = time.time()\n",
    "    cmodel.fit(X)\n",
    "    dfr = pd.DataFrame(X)\n",
    "    dfr.columns = cols\n",
    "    \n",
    "    if hasattr(cmodel, \"fit_predict\"):\n",
    "            dfr['class'] = cmodel.fit_predict(X)\n",
    "    else:\n",
    "            dfr['class'] = cmodel.algorithm.labels_.astype(int)\n",
    "         \n",
    "    \n",
    "    t1 = time.time()\n",
    "    text1 = f\"Homogeneity: {metrics.homogeneity_score(df['target'], dfr['class']):.3f}\"\n",
    "    text2 = f\"Completeness: {metrics.completeness_score(df['target'], dfr['class']):.3f}\"\n",
    "    \n",
    "    r=[]\n",
    "    for metric_name, m in zip(metrics_name, clustering_metrics):\n",
    "        score =m(df['target'],dfr['class'])\n",
    "        r.append(score)\n",
    "    r.append((t1 - t0)*1000)\n",
    "    res_df[name] = np.array(r)  \n",
    "    \n",
    "    ax.set_xlabel(text1+'\\n'+text2)             \n",
    "  \n",
    "    plt.title(name)\n",
    "    for c, rows in dfr.groupby('class'):\n",
    "        plt.scatter(rows[x_label], rows[y_label], s = size)\n",
    "    dt=(t1 - t0)*1000\n",
    "    ax.text(2.5,\n",
    "            -1.5, ('%.4f ms' % (dt)).lstrip('0'), \n",
    "            size=15, horizontalalignment='right', color='b')\n",
    "    i += 1\n",
    "plt.subplots_adjust(wspace=0.2, hspace=0.5)\n",
    "plt.show()"
   ]
  },
  {
   "cell_type": "code",
   "execution_count": null,
   "id": "5b482b7e-9689-4165-8d84-1468e1e43916",
   "metadata": {},
   "outputs": [],
   "source": [
    "scores=res_df.set_index(\"Metric\").transpose()\n",
    "scores"
   ]
  },
  {
   "cell_type": "code",
   "execution_count": null,
   "id": "211a19ca",
   "metadata": {},
   "outputs": [],
   "source": [
    "import holoviews as hv\n",
    "import hvplot\n",
    "import hvplot.pandas\n",
    "hv.extension('bokeh')"
   ]
  },
  {
   "cell_type": "code",
   "execution_count": null,
   "id": "5cc0a7c0-e5bd-464e-988d-09811c787cfb",
   "metadata": {},
   "outputs": [],
   "source": [
    "scores.hvplot.bar(width=1000, rot=90, y=['homogeneity_score', 'completeness_score',\t'v_measure_score']).opts( height=500, width=1000)"
   ]
  },
  {
   "cell_type": "code",
   "execution_count": null,
   "id": "03f68e9a",
   "metadata": {},
   "outputs": [],
   "source": [
    "import bokeh.io\n",
    "bokeh.io.output_notebook()"
   ]
  },
  {
   "cell_type": "code",
   "execution_count": null,
   "id": "aef7b515-fe43-4c7b-91e4-b54bb0672f03",
   "metadata": {},
   "outputs": [],
   "source": []
  }
 ],
 "metadata": {
  "kernelspec": {
   "display_name": "Python 3 (ipykernel)",
   "language": "python",
   "name": "python3"
  },
  "language_info": {
   "codemirror_mode": {
    "name": "ipython",
    "version": 3
   },
   "file_extension": ".py",
   "mimetype": "text/x-python",
   "name": "python",
   "nbconvert_exporter": "python",
   "pygments_lexer": "ipython3",
   "version": "3.12.4"
  }
 },
 "nbformat": 4,
 "nbformat_minor": 5
}
