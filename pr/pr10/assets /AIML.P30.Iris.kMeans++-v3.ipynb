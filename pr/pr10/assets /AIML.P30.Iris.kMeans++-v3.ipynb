{
 "cells": [
  {
   "cell_type": "code",
   "execution_count": null,
   "id": "2a4339b1",
   "metadata": {},
   "outputs": [],
   "source": [
    "import numpy as np\n",
    "import scipy as sp\n",
    "import matplotlib.pyplot as plt\n",
    "import pandas as pd\n",
    "import math\n",
    "import operator\n",
    "import seaborn as sns\n",
    "import matplotlib.pyplot as plt"
   ]
  },
  {
   "cell_type": "code",
   "execution_count": null,
   "id": "d4240dff-530a-4057-8c27-2da06582f7f1",
   "metadata": {},
   "outputs": [],
   "source": [
    "import warnings\n",
    "warnings.filterwarnings(\"ignore\", category=DeprecationWarning)\n",
    "warnings.filterwarnings(\"ignore\", category=FutureWarning)\n",
    "warnings.filterwarnings(\"ignore\", category=UserWarning)"
   ]
  },
  {
   "cell_type": "code",
   "execution_count": null,
   "id": "735d5fd9-e9e7-43a7-8ec3-cf661923fc48",
   "metadata": {},
   "outputs": [],
   "source": [
    "import os\n",
    "os.environ[\"OMP_NUM_THREADS\"] = '1'"
   ]
  },
  {
   "cell_type": "code",
   "execution_count": null,
   "id": "1d10ea6b-0689-47e7-92e5-035ce2c47b51",
   "metadata": {},
   "outputs": [],
   "source": [
    "from sklearn.datasets import load_iris\n",
    "iris = load_iris(as_frame=True)\n",
    "x_label='sepal length (cm)'\n",
    "y_label='petal length (cm)'\n",
    "cols = list(iris.frame.columns)[:-1]\n",
    "df=iris.frame"
   ]
  },
  {
   "cell_type": "code",
   "execution_count": null,
   "id": "e67f1cd6-211f-43e3-ad17-bb9b49afb770",
   "metadata": {},
   "outputs": [],
   "source": [
    "from sklearn import preprocessing\n",
    "from sklearn.preprocessing import StandardScaler\n",
    "X = StandardScaler().fit_transform(df.iloc[:,0:4])\n",
    "pd.DataFrame(X).describe()"
   ]
  },
  {
   "cell_type": "code",
   "execution_count": null,
   "id": "8a9719b9-b5e1-4571-82b4-1159a30658e1",
   "metadata": {},
   "outputs": [],
   "source": [
    "import holoviews as hv\n",
    "from holoviews import opts\n",
    "hv.extension('bokeh')\n",
    "import panel as pn\n",
    "import hvplot.pandas"
   ]
  },
  {
   "cell_type": "code",
   "execution_count": null,
   "id": "327fa992-4c7b-45e2-916c-c67f059f2ad0",
   "metadata": {},
   "outputs": [],
   "source": [
    "x = pn.widgets.Select(name='x', options=cols, value = x_label)\n",
    "y = pn.widgets.Select(name='y', options=cols, value = y_label)\n",
    "check = pn.widgets.Checkbox (name='Классы', value = True)\n",
    "\n",
    "color1=['blue', 'orange', 'green']\n",
    "color2=['red', 'red', 'red']\n",
    "\n",
    "def draw(x, y, check):\n",
    "    class_plot=df.hvplot.scatter(x, y, by='target', marker='o', size=100,  color=( color1 if check else color2) )\n",
    "    centers = df.groupby('target')[[x] if x == y else [x, y]].mean()\n",
    "    centers_plot= hv.Scatter(centers,  label='Class centers')\n",
    "    centers_plot.opts(color='k', marker='x', size=15, line_width=5)\n",
    "    fig = (class_plot * centers_plot) if check else class_plot\n",
    "    fig.opts(xlabel=x, ylabel=y, width=600, height=500, tools=['hover'], \n",
    "             title=\"Iris Dataset\", legend_position='top_left', show_grid=True)\n",
    "    return ( fig  )\n",
    "    \n",
    "pn.Row(\n",
    "    pn.pane.HoloViews(\n",
    "        pn.bind(draw, x, y, check)\n",
    "    ).servable(),\n",
    "    \n",
    "    pn.WidgetBox(\n",
    "        pn.Column(\n",
    "           \"Обучающая выборка\",\n",
    "            check, \n",
    "            x, y\n",
    "        ).servable(target='sidebar')\n",
    "    ),\n",
    ")\n"
   ]
  },
  {
   "cell_type": "code",
   "execution_count": null,
   "id": "b582d7a0-ba22-4304-b0b9-a5988379e859",
   "metadata": {},
   "outputs": [],
   "source": [
    "from sklearn.cluster import KMeans\n",
    "from yellowbrick.cluster import KElbowVisualizer\n",
    "# Instantiate a scikit-learn K-Means model\n",
    "model = KMeans(random_state=0, n_init='auto' )\n",
    "# Instantiate the KElbowVisualizer with the number of clusters and the metric \n",
    "visualizer = KElbowVisualizer(model, k=(1,12), timings=False)\n",
    "# Fit the data and visualize\n",
    "visualizer.fit(X)   \n",
    "visualizer.poof() "
   ]
  },
  {
   "cell_type": "code",
   "execution_count": null,
   "id": "5d56e2e3-3435-4685-a99b-0570153452c0",
   "metadata": {},
   "outputs": [],
   "source": [
    "visualizer = KElbowVisualizer(model, k=(2,12), metric='silhouette', timings=False)\n",
    "# Fit the data and visualize\n",
    "visualizer.fit(X)   \n",
    "visualizer.poof() "
   ]
  },
  {
   "cell_type": "code",
   "execution_count": null,
   "id": "38e4f366-e247-4fb7-aeac-10a5d61e40f6",
   "metadata": {},
   "outputs": [],
   "source": [
    "import import_ipynb\n",
    "from pyclustertend import  vat,  ivat, hopkins\n",
    "\n",
    "print(hopkins(X, X.shape[0]))\n",
    "vat(X, figure_size=(5, 3))\n",
    "ivat(X, figure_size=(7, 5))"
   ]
  },
  {
   "cell_type": "code",
   "execution_count": null,
   "id": "c8b6f2f1-23e4-434a-8974-54ec0b00f838",
   "metadata": {},
   "outputs": [],
   "source": [
    "x = pn.widgets.Select(name='x', options=cols, value = x_label)\n",
    "y = pn.widgets.Select(name='y', options=cols, value = y_label)\n",
    "n_clusters = pn.widgets.IntSlider(name='n_clusters', start=1, end=12, value=3)\n",
    "check = pn.widgets.Checkbox (name='Исходные классы', value = False)\n",
    "\n",
    "def get_clusters(x, y, n_clusters, check):\n",
    "    kmeans = KMeans(n_clusters=n_clusters, n_init=10, random_state = 123, verbose = 0)\n",
    "    kmeans.fit(X)\n",
    "    pred=kmeans.fit_predict(X)\n",
    "    \n",
    "    df['cluster'] = pred\n",
    "    cluster_centers = df.groupby('cluster')[[x] if x == y else [x, y]].mean()\n",
    "    \n",
    "    cluster_plot=df.hvplot.scatter(x, y, by='cluster', marker='o', size=100,  color=['orange', 'blue', 'green', 'cyan', 'magenta', 'yellow', 'red'])\n",
    "    \n",
    "    class_plot=df.hvplot.scatter(x, y, by='target', marker='o', size=50,  color=['blue', 'orange', 'green'])\n",
    "    \n",
    "    cluster_centers_plot= hv.Scatter(cluster_centers,  label='Cluster centers')\n",
    "    cluster_centers_plot.opts(color='k', marker='x', size=15, line_width=5)\n",
    "    \n",
    "    centers = df.groupby('target')[[x] if x == y else [x, y]].mean()\n",
    "    centers_plot= hv.Scatter(centers,  label='Class centers')\n",
    "    centers_plot.opts( marker='x', size=15, line_width=5, color='red')\n",
    "    \n",
    "    #*  centers_plot\n",
    "    fig =  (cluster_plot  * class_plot * cluster_centers_plot * centers_plot) if check else (cluster_plot  * cluster_centers_plot)\n",
    "    fig.opts(xlabel=x, ylabel=y, width=600, height=500, tools=['hover'], \n",
    "             title=\"Iris K-Means++ Clustering\", legend_position='top_left', show_grid=True)\n",
    "    return ( fig  )\n",
    "    \n",
    "\n",
    "pn.Row(\n",
    "    pn.pane.HoloViews(\n",
    "        pn.bind(get_clusters, x, y, n_clusters, check)\n",
    "    ).servable(),\n",
    "    \n",
    "    pn.WidgetBox(\n",
    "        pn.Column(\n",
    "            \"Признаки\",\n",
    "            x, y, check, \n",
    "            \"Кластеризация KMeans++\",\n",
    "            n_clusters\n",
    "        ).servable(target='sidebar')\n",
    "    ),\n",
    ")"
   ]
  },
  {
   "cell_type": "markdown",
   "id": "673abdff",
   "metadata": {},
   "source": [
    "Оценка качества кластеризации"
   ]
  },
  {
   "cell_type": "code",
   "execution_count": null,
   "id": "ba23f93c-8abc-44db-b389-5b933efc5b61",
   "metadata": {},
   "outputs": [],
   "source": [
    "from sklearn import metrics\n",
    "import time\n",
    "max_clusters=6\n",
    "\n",
    "metrics_name = [ 'homogeneity_score', 'completeness_score', 'rand_score']\n",
    "    \n",
    "clustering_metrics = [\n",
    "       \n",
    "        metrics.homogeneity_score,\n",
    "        metrics.completeness_score,\n",
    "        metrics.rand_score   \n",
    "    ]\n",
    "results = pd.DataFrame(columns=['n_clusters', 'homogeneity_score', 'completeness_score', 'rand_score'])\n",
    "np.random.seed(1234)\n",
    "\n",
    "for i in range(1,max_clusters+1):\n",
    "    res=[]\n",
    "    print(\"%i clusters\" % (i) ) \n",
    "    t0 = time.time()\n",
    "    kmeans = KMeans(n_clusters=i, n_init=10)\n",
    "    kmeans.fit(X)\n",
    "    clusters = kmeans.fit_predict(X)\n",
    "    df['cluster'] = kmeans.fit_predict(X)\n",
    "    \n",
    "    res.append(i)\n",
    "    for name, m in zip(metrics_name, clustering_metrics):\n",
    "        res.append(m(df['target'],df['cluster']))\n",
    "    t1 = time.time()\n",
    "    dt=(t1 - t0)\n",
    "    print ('Time = %.3f sec.' % (dt) )\n",
    "    results.loc[len(results)] = res\n",
    "results   "
   ]
  },
  {
   "cell_type": "code",
   "execution_count": null,
   "id": "d08465e3-950c-4eb8-9ba4-6eb1792d0e9b",
   "metadata": {},
   "outputs": [],
   "source": [
    "results.hvplot.line( x='n_clusters',   \n",
    "                  line_width=3,  xlim=(1, max_clusters),\n",
    "                  legend='top',   widget_location='left',\n",
    "                  grid = True, xlabel='Число кластеров', ylabel='Значение',\n",
    "                  height=400, width=700)"
   ]
  },
  {
   "cell_type": "code",
   "execution_count": null,
   "id": "f5b46726-92e1-4422-8723-e5bca3dc2b1c",
   "metadata": {},
   "outputs": [],
   "source": [
    "from sklearn.cluster import DBSCAN\n",
    "db = DBSCAN(eps=0.75, min_samples=15).fit(X)\n",
    "labels = db.labels_\n",
    "\n",
    "# Number of clusters in labels, ignoring noise if present.\n",
    "n_clusters_ = len(set(labels)) - (1 if -1 in labels else 0)\n",
    "n_noise_ = list(labels).count(-1)\n",
    "\n",
    "print(\"Estimated number of clusters: %d\" % n_clusters_)\n",
    "print(\"Estimated number of noise points: %d\" % n_noise_)"
   ]
  },
  {
   "cell_type": "code",
   "execution_count": null,
   "id": "78dd2b77-b457-4672-95cf-d8d29cf2e6c8",
   "metadata": {},
   "outputs": [],
   "source": [
    "x = pn.widgets.Select(name='x', options=cols, value = x_label)\n",
    "y = pn.widgets.Select(name='y', options=cols, value = y_label)\n",
    "epsilon = pn.widgets.FloatSlider(name='epsilon', start=0., end=1., value=0.75, step=0.01, width = 250)\n",
    "\n",
    "def get_clusters( x, y, epsilon):\n",
    "    np.random.seed(123)\n",
    "    db = DBSCAN(eps=epsilon, min_samples=15).fit(X)\n",
    "    df['cluster'] = db.labels_\n",
    "    class_plot= df.sort_values('cluster').hvplot.scatter(x, y, by='cluster', marker='o', size=100 )\n",
    "    class_plot.opts(xlabel=\"X\", ylabel=\"Y\", width=700, height=600, tools=['hover'],  toolbar= 'left',\n",
    "         title=\"Пространство признаков\", legend_position='top_left', show_grid=True)\n",
    "    return ( class_plot ) \n",
    "\n",
    "pn.Row(\n",
    "       \n",
    "    pn.pane.HoloViews(\n",
    "        pn.bind(get_clusters, x, y, epsilon)\n",
    "    ).servable(),\n",
    "    pn.WidgetBox(\n",
    "        pn.Column(\n",
    "            x, y,\n",
    "            \"DBScan\",\n",
    "            epsilon,\n",
    "            height = 400,\n",
    "            ).servable(target='sidebar')\n",
    "    ),\n",
    ")"
   ]
  },
  {
   "cell_type": "markdown",
   "id": "1032f2b4-8530-4e80-ba1f-805e78011714",
   "metadata": {},
   "source": [
    "Домашнее задание.\n",
    "\n",
    "Сформировать исходную выборку для датасета WINE используя только указанные в варианте задания классы.\n",
    "Для заданных алгоритмов кластеризации и числа кластеров подобрать параметры алгоритмов обеспечивающие максимум качества кластеризации про метрике полнота. \n",
    "Сравнить результаты кластеризации различными алгоритмами между собой. Сделать вывод."
   ]
  },
  {
   "cell_type": "code",
   "execution_count": null,
   "id": "86d25915-7c6d-4d2d-9a32-40b19af60919",
   "metadata": {},
   "outputs": [],
   "source": [
    "import bokeh.io\n",
    "bokeh.io.output_notebook()"
   ]
  },
  {
   "cell_type": "code",
   "execution_count": null,
   "id": "36b82bce-d41b-4b92-8edc-059b7879aca3",
   "metadata": {},
   "outputs": [],
   "source": []
  }
 ],
 "metadata": {
  "kernelspec": {
   "display_name": "Python 3 (ipykernel)",
   "language": "python",
   "name": "python3"
  },
  "language_info": {
   "codemirror_mode": {
    "name": "ipython",
    "version": 3
   },
   "file_extension": ".py",
   "mimetype": "text/x-python",
   "name": "python",
   "nbconvert_exporter": "python",
   "pygments_lexer": "ipython3",
   "version": "3.12.4"
  }
 },
 "nbformat": 4,
 "nbformat_minor": 5
}
