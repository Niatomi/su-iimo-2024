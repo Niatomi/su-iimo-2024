{
 "cells": [
  {
   "cell_type": "code",
   "execution_count": null,
   "id": "d08e8460-344f-4103-b392-f04e484f9f0b",
   "metadata": {},
   "outputs": [],
   "source": [
    "import pandas as pd\n",
    "import numpy as np\n",
    "import networkx as nx"
   ]
  },
  {
   "cell_type": "code",
   "execution_count": null,
   "id": "6fabd338-b9b5-4478-8681-eef25effe5ad",
   "metadata": {},
   "outputs": [],
   "source": [
    "import holoviews as hv\n",
    "import panel as pn\n",
    "import hvplot\n",
    "import hvplot.pandas\n",
    "from holoviews import opts\n",
    "hv.extension('bokeh')\n",
    "defaults = dict(width=400, height=400)\n",
    "hv.opts.defaults(\n",
    "    opts.EdgePaths(**defaults), opts.Graph(**defaults), opts.Nodes(**defaults))"
   ]
  },
  {
   "cell_type": "code",
   "execution_count": null,
   "id": "1b57004e-ead5-4345-b0ea-460ac09eaf81",
   "metadata": {},
   "outputs": [],
   "source": [
    "# Set the data X\n",
    "X = []\n",
    "labels = []\n",
    "\n",
    "size = 4\n",
    "\n",
    "X.extend(np.random.normal(loc=[-size, -size], size=(25, 2)))\n",
    "labels.extend([0 for _ in range(25)])\n",
    "\n",
    "X.extend(np.random.normal(loc=[size, size], size=(25, 2)))\n",
    "labels.extend([1 for _ in range(25)])\n",
    "\n",
    "X.extend(np.random.normal(loc=[size, -size], size=(25, 2)))\n",
    "labels.extend([2 for _ in range(25)])\n",
    "\n",
    "X.extend(np.random.normal(loc=[-size, size], size=(25, 2)))\n",
    "labels.extend([3 for _ in range(25)])\n",
    "\n",
    "X = np.array(X)\n",
    "X_df=pd.DataFrame(X,columns= ['X','Y'])\n",
    "X_df['labels']=labels\n",
    "\n",
    "colors=['red','blue','green','orange','gray']\n",
    "colors1=['gray','red','blue','green','orange']\n"
   ]
  },
  {
   "cell_type": "code",
   "execution_count": null,
   "id": "ad557cd2-148d-4e76-a54a-c39ea42cd013",
   "metadata": {},
   "outputs": [],
   "source": [
    "data_plot=X_df.hvplot.scatter('X', 'Y', by='labels', marker='o', size=100, color=colors  ).opts(\n",
    "                                height=500, width=700,\n",
    "                                tools=['hover'],  toolbar= 'left',\n",
    "                                title=\"Пространство признаков\", legend_position='right', show_grid=True,\n",
    "                               \n",
    "    )\n",
    "data_plot"
   ]
  },
  {
   "cell_type": "code",
   "execution_count": null,
   "id": "341c6deb-9869-462b-bbff-2d2e40e0b115",
   "metadata": {},
   "outputs": [],
   "source": [
    "# Set random weights with the same dimensions as the data\n",
    "s = int(np.ceil(np.sqrt(X.shape[0])))\n",
    "d = 2\n",
    "xx = np.linspace(-d, d, s)\n",
    "yy = np.linspace(-d, d, s)\n",
    "W = np.array([[x, y] for y in yy for x in xx])"
   ]
  },
  {
   "cell_type": "code",
   "execution_count": null,
   "id": "1c12d707-25d6-4dc0-adcd-8f1c0cd3360d",
   "metadata": {},
   "outputs": [],
   "source": [
    "# Use networkx to define topology and neighbourhood connections\n",
    "# The i'th row of the weights maps to the i'th node in the network\n",
    "# Using a lattice as an example\n",
    "G = nx.grid_2d_graph(m=s, n=s)\n",
    "position = nx.spring_layout(G, scale=1)\n",
    "\n",
    "# Map coordinates to index and index to coordinates\n",
    "c2i = {c: i for i, c in enumerate(G.nodes())}\n",
    "i2c = {v: k for k, v in c2i.items()}\n",
    "# If there are more nodes than weights, append difference to match size\n",
    "diff = np.abs(len(G.nodes()) - W.shape[0])\n",
    "if diff > 0:\n",
    "    W = np.concatenate([W, np.random.random(size=(diff, W.shape[1]))])"
   ]
  },
  {
   "cell_type": "code",
   "execution_count": null,
   "id": "4b97cc8b-00a9-4d1d-9ca1-e1d66e68963e",
   "metadata": {},
   "outputs": [],
   "source": [
    "for i, c in enumerate(G.nodes()):\n",
    "    position[c]=np.array(W[i])\n",
    "node_plot=hv.Graph.from_networkx(G, position)\n",
    "node_plot.opts(inspection_policy='nodes', edge_color='gray', edge_hover_line_color='black', edge_alpha=0.5,\n",
    "               node_color='gray', node_hover_fill_color='black', node_alpha=0.5,\n",
    "               node_size=10 )\n",
    "data_plot*node_plot"
   ]
  },
  {
   "cell_type": "code",
   "execution_count": null,
   "id": "82f1ed4c-b302-4a2c-b1ef-578be352009d",
   "metadata": {},
   "outputs": [],
   "source": [
    "# Function for learning rate\n",
    "def f1(x, k):\n",
    "    return np.exp(x * k)\n",
    "\n",
    "# Function for neighbourhood restraint\n",
    "def f2(x, s):\n",
    "    return np.exp(-(x / (s ** 2)))\n",
    "\n",
    "# Compute learning rate\n",
    "def learning_rate(s, k):\n",
    "    return f1(x=s, k=k)\n",
    "\n",
    "# Compute neighbourhood restraint\n",
    "def restraint(G, best, n, sigma=1):\n",
    "    dist = nx.shortest_path_length(G, source=best, target=n)\n",
    "    return f2(dist, s=sigma)"
   ]
  },
  {
   "cell_type": "code",
   "execution_count": null,
   "id": "7044f37d-fb55-4e3b-942f-a4ce228fdf4d",
   "metadata": {},
   "outputs": [],
   "source": [
    "import time\n",
    "import progressbar\n",
    "\n",
    "# Keep track of which unit (neuron) won what\n",
    "winners = {i: [] for i in range(W.shape[0])}\n",
    "\n",
    "max_iter = 1000 #70000\n",
    "\n",
    "weights = []\n",
    "weights.append(np.copy(W))\n",
    "\n",
    "with progressbar.ProgressBar(max_value=max_iter, enable_colors=False) as bar:\n",
    "    # Start training loop\n",
    "    for s in range(max_iter):\n",
    "        bar.next()\n",
    "        # Pick random data point\n",
    "        r_idx = np.random.randint(X.shape[0])\n",
    "        x = X[r_idx, :]\n",
    "    \n",
    "        # Find the best matching unit (BMU) using Euclidean distance\n",
    "        x_stack = np.stack([x]*W.shape[0], axis=0)\n",
    "        dists = np.linalg.norm(x_stack - W, axis=1)\n",
    "        best_idx = np.argmin(dists)\n",
    "    \n",
    "        # Set learning rate\n",
    "        k = -(1/500) #/ -(1/1000)\n",
    "        a = learning_rate(s, k)\n",
    "        \n",
    "        \n",
    "        # Update weights\n",
    "        W[best_idx, :] = W[best_idx, :] + a * (x - W[best_idx, :])\n",
    "        \n",
    "    \n",
    "        # Add the index of the data point to the \"won\" list\n",
    "        winners[best_idx].append(r_idx)\n",
    "    \n",
    "        \n",
    "        # Update weights of neighbours\n",
    "        immediate_n = list(G[i2c[best_idx]])\n",
    "        for n in immediate_n:\n",
    "            W[c2i[n], :] = W[c2i[n], :] + restraint(G, i2c[best_idx], n) * a * (x - W[c2i[n], :])\n",
    "        \n",
    "    \n",
    "        # # Update all weights\n",
    "        # for n in G.nodes():\n",
    "        #     W[c2i[n], :] = W[c2i[n], :] + restraint(G, i2c[best_idx], n) * a * (x - W[c2i[n], :])\n",
    "            \n",
    "        weights.append(np.copy(W))"
   ]
  },
  {
   "cell_type": "code",
   "execution_count": null,
   "id": "5fb1d29e-f232-4bfe-a8a6-4697a827500b",
   "metadata": {},
   "outputs": [],
   "source": [
    "for i, c in enumerate(G.nodes()):\n",
    "    position[c]=np.array(W[i])\n",
    "    \n",
    "node_plot=hv.Graph.from_networkx(G, position)\n",
    "node_plot.opts(inspection_policy='nodes', edge_color='gray', edge_hover_line_color='black', edge_alpha=0.5,\n",
    "               node_color='gray', node_hover_fill_color='black', node_alpha=0.5,\n",
    "               node_size=10 )\n",
    "data_plot*node_plot"
   ]
  },
  {
   "cell_type": "code",
   "execution_count": null,
   "id": "a7d24a9b-0f9c-496c-aac2-f0d51cfb2b03",
   "metadata": {},
   "outputs": [],
   "source": [
    "n_iter = pn.widgets.IntSlider(name='Итерация', start=0, end=max_iter-1, value=0,  width = 250)\n",
    "\n",
    "def get_net(n_iter):\n",
    "    Net_weights=weights[n_iter]\n",
    "    for i, c in enumerate(G.nodes()):\n",
    "        position[c]=np.array(Net_weights[i])\n",
    "    node_plot=hv.Graph.from_networkx(G, position)\n",
    "    node_plot.opts(inspection_policy='nodes', edge_color='gray', edge_hover_line_color='black', edge_alpha=0.5,\n",
    "               node_color='gray', node_hover_fill_color='black', node_alpha=0.5,\n",
    "               node_size=10 )\n",
    "    return (data_plot*node_plot)\n",
    "\n",
    "pn.Row(\n",
    "       \n",
    "    pn.pane.HoloViews(\n",
    "        pn.bind(get_net, n_iter)\n",
    "    ).servable(),\n",
    "    pn.WidgetBox(\n",
    "        pn.Column(\n",
    "            \"Карта Кононена\",\n",
    "            n_iter,\n",
    "            height = 400,\n",
    "            ).servable(target='sidebar')\n",
    "    ),\n",
    ")\n",
    "    \n",
    "    "
   ]
  },
  {
   "cell_type": "code",
   "execution_count": null,
   "id": "65bfaeff-3f36-4f5a-8995-212af8468ce4",
   "metadata": {},
   "outputs": [],
   "source": [
    "# Match unit to most \"won\" data point, else sign no label\n",
    "def best_match(idxs):\n",
    "    idx = None\n",
    "    if len(idxs) > 0:\n",
    "        idx = max(idxs, key=idxs.count)\n",
    "    \n",
    "    return idx\n",
    "\n",
    "unit_match = {i: best_match(idxs) for i, idxs in winners.items()}\n",
    "\n",
    "# Match unit with the label, if assigned index\n",
    "unit_label = {i: labels[idx] for i, idx in unit_match.items() if idx}\n",
    "\n",
    "# Plot the results as a scatter plot (optional, try heat map)\n",
    "results = np.array([list(i2c[k]) for k in unit_label.keys()])\n",
    "pred = list(unit_label.values())\n",
    "\n",
    "unit_wins= [(i2c[k]) for k in unit_label.keys()]\n",
    "unit_lose= set(G.nodes) - set(unit_wins)\n",
    "\n",
    "node_lose= dict.fromkeys(unit_lose, -1)\n",
    "node_wins = dict(zip(unit_wins, pred))"
   ]
  },
  {
   "cell_type": "code",
   "execution_count": null,
   "id": "569ae674-ff6e-4e95-8e7d-8ab4e7dd0183",
   "metadata": {},
   "outputs": [],
   "source": [
    "#nx.get_node_attributes(G,'cluster')"
   ]
  },
  {
   "cell_type": "code",
   "execution_count": null,
   "id": "a9d9628b-81de-4507-87c4-fdd5195ca8c0",
   "metadata": {},
   "outputs": [],
   "source": [
    "nx.set_node_attributes(G, node_lose | node_wins, 'cluster')\n",
    "node_plot=hv.Graph.from_networkx(G, position)\n",
    "node_plot.opts(inspection_policy='nodes', edge_color='gray', edge_hover_line_color='black', edge_alpha=0.5,\n",
    "                node_hover_fill_color='black', node_alpha=0.95,\n",
    "               node_size=10, node_color='cluster', cmap=colors1)\n",
    "data_plot*node_plot"
   ]
  },
  {
   "cell_type": "code",
   "execution_count": null,
   "id": "7827099b-386d-4a3e-8e33-ce0d9825b323",
   "metadata": {},
   "outputs": [],
   "source": [
    "print(\"Missing nodes:\")\n",
    "print([i2c[k] for k, v in unit_match.items() if not v])"
   ]
  },
  {
   "cell_type": "code",
   "execution_count": null,
   "id": "172b9dbb-b73a-4339-9164-4516f3e66bf6",
   "metadata": {},
   "outputs": [],
   "source": []
  }
 ],
 "metadata": {
  "kernelspec": {
   "display_name": "Python 3 (ipykernel)",
   "language": "python",
   "name": "python3"
  },
  "language_info": {
   "codemirror_mode": {
    "name": "ipython",
    "version": 3
   },
   "file_extension": ".py",
   "mimetype": "text/x-python",
   "name": "python",
   "nbconvert_exporter": "python",
   "pygments_lexer": "ipython3",
   "version": "3.12.4"
  }
 },
 "nbformat": 4,
 "nbformat_minor": 5
}
