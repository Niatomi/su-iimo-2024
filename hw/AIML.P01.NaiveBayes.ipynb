{
 "cells": [
  {
   "cell_type": "code",
   "execution_count": 5,
   "id": "f996dde4",
   "metadata": {},
   "outputs": [
    {
     "ename": "ModuleNotFoundError",
     "evalue": "No module named 'sklearn'",
     "output_type": "error",
     "traceback": [
      "\u001b[0;31m---------------------------------------------------------------------------\u001b[0m",
      "\u001b[0;31mModuleNotFoundError\u001b[0m                       Traceback (most recent call last)",
      "Cell \u001b[0;32mIn[5], line 5\u001b[0m\n\u001b[1;32m      3\u001b[0m \u001b[38;5;28;01mimport\u001b[39;00m \u001b[38;5;21;01mpylab\u001b[39;00m \u001b[38;5;28;01mas\u001b[39;00m \u001b[38;5;21;01mpl\u001b[39;00m\n\u001b[1;32m      4\u001b[0m \u001b[38;5;28;01mfrom\u001b[39;00m \u001b[38;5;21;01mmatplotlib\u001b[39;00m \u001b[38;5;28;01mimport\u001b[39;00m pyplot \u001b[38;5;28;01mas\u001b[39;00m plt\n\u001b[0;32m----> 5\u001b[0m \u001b[38;5;28;01mfrom\u001b[39;00m \u001b[38;5;21;01msklearn\u001b[39;00m\u001b[38;5;21;01m.\u001b[39;00m\u001b[38;5;21;01mnaive_bayes\u001b[39;00m \u001b[38;5;28;01mimport\u001b[39;00m GaussianNB\n\u001b[1;32m      7\u001b[0m \u001b[38;5;28;01mfrom\u001b[39;00m \u001b[38;5;21;01msklearn\u001b[39;00m\u001b[38;5;21;01m.\u001b[39;00m\u001b[38;5;21;01mdatasets\u001b[39;00m \u001b[38;5;28;01mimport\u001b[39;00m make_moons, make_circles, make_classification\n\u001b[1;32m      8\u001b[0m \u001b[38;5;28;01mfrom\u001b[39;00m \u001b[38;5;21;01msklearn\u001b[39;00m\u001b[38;5;21;01m.\u001b[39;00m\u001b[38;5;21;01mmodel_selection\u001b[39;00m \u001b[38;5;28;01mimport\u001b[39;00m train_test_split\n",
      "\u001b[0;31mModuleNotFoundError\u001b[0m: No module named 'sklearn'"
     ]
    }
   ],
   "source": [
    "import pandas as pd\n",
    "import numpy as np\n",
    "import pylab as pl\n",
    "from matplotlib import pyplot as plt\n",
    "from sklearn.naive_bayes import GaussianNB\n",
    "\n",
    "from sklearn.datasets import make_moons, make_circles, make_classification\n",
    "from sklearn.model_selection import train_test_split\n",
    "from sklearn.preprocessing import StandardScaler\n",
    "from matplotlib.colors import ListedColormap\n",
    "from scipy.stats import multivariate_normal"
   ]
  },
  {
   "cell_type": "code",
   "execution_count": null,
   "id": "25edc497",
   "metadata": {},
   "outputs": [],
   "source": [
    "def evidence(X):\n",
    "    return p_y1*p_x_y1.pdf(X)+p_y2*p_x_y2.pdf(X)"
   ]
  },
  {
   "cell_type": "code",
   "execution_count": null,
   "id": "3f28c48c",
   "metadata": {},
   "outputs": [],
   "source": [
    "def likelyhood1(X):\n",
    "    return p_x_y1.pdf(X)\n",
    "\n",
    "def likelyhood2(X):\n",
    "    return p_x_y2.pdf(X)"
   ]
  },
  {
   "cell_type": "code",
   "execution_count": null,
   "id": "6152bf98",
   "metadata": {},
   "outputs": [],
   "source": [
    "def probability2(X):\n",
    "    _prior = p_y1\n",
    "    _likelyhood = likelyhood2(X)\n",
    "    _evidence = evidence(X)\n",
    "    return  (_prior*_likelyhood/_evidence)\n",
    "\n",
    "def probability1(X):\n",
    "    _prior = p_y2\n",
    "    _likelyhood = likelyhood1(X)\n",
    "    _evidence = evidence(X)\n",
    "    return  (_prior*_likelyhood/_evidence)"
   ]
  },
  {
   "cell_type": "code",
   "execution_count": null,
   "id": "9d458de9",
   "metadata": {},
   "outputs": [],
   "source": [
    "X, y = make_classification(n_features=2, n_samples=100, n_redundant=0, n_informative=2, random_state=1, n_clusters_per_class=1)\n",
    "X, y = make_circles(noise=0.2, factor=0.5, random_state=1)\n",
    "X, y = make_moons(noise=0.3, random_state=0)\n",
    "#rng = np.random.RandomState(12)\n",
    "#X += 3 * rng.uniform(size=X.shape)"
   ]
  },
  {
   "cell_type": "code",
   "execution_count": null,
   "id": "d970e995",
   "metadata": {},
   "outputs": [],
   "source": [
    "df = pd.DataFrame({'F1':X[:,0],'F2':X[:,1], 'Class':y})"
   ]
  },
  {
   "cell_type": "code",
   "execution_count": null,
   "id": "5ce8379a",
   "metadata": {},
   "outputs": [],
   "source": [
    "import seaborn as sns\n",
    "sns.pairplot(df, hue='Class')\n",
    "plt.show()"
   ]
  },
  {
   "cell_type": "code",
   "execution_count": null,
   "id": "3b5578ec",
   "metadata": {},
   "outputs": [],
   "source": [
    "mean=df.mean()\n",
    "var=df.var()\n",
    "mean1=df[df.Class == 0].mean()\n",
    "var1=df[df.Class == 0].var()\n",
    "mean2=df[df.Class == 1].mean()\n",
    "var2=df[df.Class == 1].var()"
   ]
  },
  {
   "cell_type": "code",
   "execution_count": null,
   "id": "370825cc",
   "metadata": {},
   "outputs": [],
   "source": [
    "x_min, x_max = df['F1'].min() - .5, df['F1'].max() + .5\n",
    "y_min, y_max = df['F2'].min() - .5, df['F2'].max() + .5"
   ]
  },
  {
   "cell_type": "code",
   "execution_count": null,
   "id": "1019510f",
   "metadata": {},
   "outputs": [],
   "source": [
    "x = np.linspace(x_min, x_max, 500)\n",
    "y = np.linspace(y_min, y_max, 500)\n",
    "X,Y = np.meshgrid(x,y)\n",
    "\n",
    "pos = np.empty(X.shape + (2,))\n",
    "pos[:, :, 0] = X; pos[:, :, 1] = Y\n",
    "rv1 = multivariate_normal([mean1['F1'],mean1['F2'],], [[var1['F1'], 0], [0, var1['F2']]])\n",
    "rv2 = multivariate_normal([mean2['F1'],mean2['F2'],], [[var2['F1'], 0], [0, var2['F2']]])\n",
    "\n",
    "fig, ax = plt.subplots()\n",
    "cm = plt.cm.RdBu\n",
    "cm_bright = ListedColormap(['#FF0000', '#0000FF'])\n",
    "ax.scatter(df['F1'], df['F2'], c=df['Class'], cmap=cm_bright, edgecolors='k')\n",
    "ax.grid(True, linestyle='-.')\n",
    "ax.tick_params(labelcolor='r', labelsize='medium', width=3)\n",
    "ax.contour(X, Y, rv1.pdf(pos), alpha=.8)\n",
    "ax.contour(X, Y, rv2.pdf(pos), alpha=.8)\n",
    "ax.set_xlabel(\"Feature 1\", fontsize=15)\n",
    "ax.set_ylabel(\"Feature 2\", fontsize=15)\n",
    "ax.set_title(\"PDF\")\n",
    "plt.tight_layout()\n",
    "\n",
    "plt.show()\n"
   ]
  },
  {
   "cell_type": "code",
   "execution_count": null,
   "id": "87ef5d0e",
   "metadata": {},
   "outputs": [],
   "source": [
    "num = df['Class'].count()\n",
    "num1 = df[df.Class == 0]['Class'].count()\n",
    "num2 = df[df.Class == 1]['Class'].count()\n",
    "p_y1=num1/num\n",
    "p_y2=num2/num\n",
    "p_x_y1=rv1\n",
    "p_x_y2=rv2"
   ]
  },
  {
   "cell_type": "code",
   "execution_count": null,
   "id": "dbc29755",
   "metadata": {},
   "outputs": [],
   "source": [
    "u=0.28\n",
    "v=1\n",
    "print (probability1([u, v]))\n",
    "print (probability2([u, v]))"
   ]
  },
  {
   "cell_type": "code",
   "execution_count": null,
   "id": "49f65128",
   "metadata": {},
   "outputs": [],
   "source": [
    "fig, ax = plt.subplots()\n",
    "ax.contourf(X, Y, probability2(pos), cmap=cm, alpha=.8)\n",
    "ax.contour(X, Y, probability2(pos), [0.5], linewidths=5, colors='k')\n",
    "\n",
    "ax.scatter(df['F1'], df['F2'], c=df['Class'], cmap=cm_bright, edgecolors='k')\n",
    "\n",
    "ax.grid(True, linestyle='-.')\n",
    "ax.tick_params(labelcolor='r', labelsize='medium', width=3)\n",
    "ax.set_xlabel(\"Feature 1\", fontsize=15)\n",
    "ax.set_ylabel(\"Feature 2\", fontsize=15)\n",
    "ax.set_title(\"Naive Bayes\")\n",
    "plt.tight_layout()\n",
    "plt.show()"
   ]
  },
  {
   "cell_type": "code",
   "execution_count": null,
   "id": "35f70fda",
   "metadata": {},
   "outputs": [],
   "source": []
  }
 ],
 "metadata": {
  "kernelspec": {
   "display_name": "Python 3 (ipykernel)",
   "language": "python",
   "name": "python3"
  },
  "language_info": {
   "codemirror_mode": {
    "name": "ipython",
    "version": 3
   },
   "file_extension": ".py",
   "mimetype": "text/x-python",
   "name": "python",
   "nbconvert_exporter": "python",
   "pygments_lexer": "ipython3",
   "version": "3.10.14"
  }
 },
 "nbformat": 4,
 "nbformat_minor": 5
}
