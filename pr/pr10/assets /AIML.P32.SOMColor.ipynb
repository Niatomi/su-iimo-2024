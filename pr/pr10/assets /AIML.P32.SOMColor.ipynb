{
 "cells": [
  {
   "cell_type": "code",
   "execution_count": null,
   "id": "1febaefd-740f-4a2c-a783-2ba783234afb",
   "metadata": {},
   "outputs": [],
   "source": [
    "#https://stackabuse.com/self-organizing-maps-theory-and-implementation-in-python-with-numpy/\n",
    "import numpy as np\n",
    "import matplotlib.pyplot as plt"
   ]
  },
  {
   "cell_type": "code",
   "execution_count": null,
   "id": "05f3a30b-c1dc-4680-aad4-f0ea6066b405",
   "metadata": {},
   "outputs": [],
   "source": [
    "#To understand how the learning rate changes with the decay rate, let's plot the learning rate against various epochs when the initial learning rate is set to one:\n",
    "epochs = np.arange(0, 50)\n",
    "lr_decay = [0.001, 0.1, 0.5, 0.99]\n",
    "fig,ax = plt.subplots(nrows=1, ncols=4, figsize=(15,4))\n",
    "plt_ind = np.arange(4) + 141\n",
    "for decay, ind in zip(lr_decay, plt_ind):\n",
    "    plt.subplot(ind)\n",
    "    learn_rate = np.exp(-epochs * decay)\n",
    "    plt.plot(epochs, learn_rate, c='cyan')\n",
    "    plt.title('decay rate: ' + str(decay))\n",
    "    plt.xlabel('epochs $t$')\n",
    "    plt.ylabel('$\\\\eta^(t)$')\n",
    "fig.subplots_adjust(hspace=0.5, wspace=0.3)\n",
    "plt.show()"
   ]
  },
  {
   "cell_type": "code",
   "execution_count": null,
   "id": "df0ef3cb-57ee-41c1-90a6-a54979d66219",
   "metadata": {},
   "outputs": [],
   "source": [
    "#The neighborhood distance function is given by:\n",
    "distance = np.arange(0, 30)\n",
    "sigma_sq = [0.1, 1, 10, 100]\n",
    "fig,ax = plt.subplots(nrows=1, ncols=4, figsize=(15,4))\n",
    "plt_ind = np.arange(4) + 141\n",
    "for s, ind in zip(sigma_sq, plt_ind):\n",
    "    plt.subplot(ind)\n",
    "    f = np.exp(-distance ** 2 / 2 / s)\n",
    "    plt.plot(distance, f, c='cyan')\n",
    "    plt.title('$\\\\sigma^2$ = ' + str(s))\n",
    "    plt.xlabel('Distance')\n",
    "    plt.ylabel('Neighborhood function $f$')\n",
    "fig.subplots_adjust(hspace=0.5, wspace=0.3)\n",
    "plt.show()"
   ]
  },
  {
   "cell_type": "code",
   "execution_count": null,
   "id": "a930dcc4-2746-49ee-bd56-e6a619c7c995",
   "metadata": {},
   "outputs": [],
   "source": [
    "# Return the (g,h) index of the BMU in the grid\n",
    "def find_BMU(SOM,x):\n",
    "    distSq = (np.square(SOM - x)).sum(axis=2)\n",
    "    return np.unravel_index(np.argmin(distSq, axis=None), distSq.shape)\n",
    "    \n",
    "# Update the weights of the SOM cells when given a single training example\n",
    "# and the model parameters along with BMU coordinates as a tuple\n",
    "def update_weights(SOM, train_ex, learn_rate, radius_sq, \n",
    "                   BMU_coord, step=3):\n",
    "    g, h = BMU_coord\n",
    "    #if radius is close to zero then only BMU is changed\n",
    "    if radius_sq < 1e-3:\n",
    "        SOM[g,h,:] += learn_rate * (train_ex - SOM[g,h,:])\n",
    "        return SOM\n",
    "    # Change all cells in a small neighborhood of BMU\n",
    "    for i in range(max(0, g-step), min(SOM.shape[0], g+step)):\n",
    "        for j in range(max(0, h-step), min(SOM.shape[1], h+step)):\n",
    "            dist_sq = np.square(i - g) + np.square(j - h)\n",
    "            dist_func = np.exp(-dist_sq / 2 / radius_sq)\n",
    "            SOM[i,j,:] += learn_rate * dist_func * (train_ex - SOM[i,j,:])   \n",
    "    return SOM    \n",
    "\n",
    "import time\n",
    "import progressbar\n",
    "\n",
    "def SOM_fit(SOM, train_data, learn_rate = .1, radius_sq = 1, \n",
    "             lr_decay = .1, radius_decay = .1):    \n",
    "    learn_rate_0 = learn_rate\n",
    "    radius_0 = radius_sq\n",
    "    rand.shuffle(train_data)      \n",
    "    for train_ex in train_data:\n",
    "            g, h = find_BMU(SOM, train_ex)\n",
    "            SOM = update_weights(SOM, train_ex, \n",
    "                                 learn_rate, radius_sq, (g,h))\n",
    "            # Update learning rate and radius\n",
    "            learn_rate = learn_rate_0 * np.exp(-epoch * lr_decay)\n",
    "            radius_sq = radius_0 * np.exp(-epoch * radius_decay)            \n",
    "    return SOM\n",
    "\n",
    "\n",
    "# Main routine for training an SOM. It requires an initialized SOM grid\n",
    "# or a partially trained grid as parameter\n",
    "def train_SOM(SOM, train_data, learn_rate = .1, radius_sq = 1, \n",
    "             lr_decay = .1, radius_decay = .1, epochs = 10):    \n",
    "    with progressbar.ProgressBar(max_value=epochs, enable_colors=False) as bar:\n",
    "        learn_rate_0 = learn_rate\n",
    "        radius_0 = radius_sq\n",
    "        for epoch in np.arange(0, epochs):\n",
    "            bar.next()\n",
    "            rand.shuffle(train_data)      \n",
    "            for train_ex in train_data:\n",
    "                g, h = find_BMU(SOM, train_ex)\n",
    "                SOM = update_weights(SOM, train_ex, \n",
    "                                     learn_rate, radius_sq, (g,h))\n",
    "            # Update learning rate and radius\n",
    "            learn_rate = learn_rate_0 * np.exp(-epoch * lr_decay)\n",
    "            radius_sq = radius_0 * np.exp(-epoch * radius_decay)            \n",
    "    return SOM"
   ]
  },
  {
   "cell_type": "code",
   "execution_count": null,
   "id": "b3b37210-fc15-41c0-ab7e-413c019bfa2d",
   "metadata": {},
   "outputs": [],
   "source": [
    "import numpy as np\n",
    "import holoviews as hv\n",
    "from holoviews import opts\n",
    "hv.extension('bokeh')"
   ]
  },
  {
   "cell_type": "code",
   "execution_count": null,
   "id": "35f332f7-601c-4af4-ab89-cfed9e116b32",
   "metadata": {},
   "outputs": [],
   "source": [
    "# Dimensions of the SOM grid\n",
    "m = 25\n",
    "n = 25\n",
    "# size of training examples\n",
    "n_x = 50\n",
    "rand = np.random.RandomState(1230)\n",
    "# Initialize the training data\n",
    "train_data = rand.randint(0, 255, (n_x*n_x, 3))\n",
    "# Initialize the SOM randomly\n",
    "SOM_init = rand.randint(0, 255, (m, n, 3)).astype(float)\n",
    "\n",
    "bounds=(-1,-1,1,1)\n",
    "train_img = hv.RGB(train_data.reshape(n_x, n_x, 3), bounds=bounds)\n",
    "train_img.opts(title=\"Выборка\",height=350,width=350, xaxis='bare',yaxis='bare') \n",
    "som_img=hv.RGB(SOM_init, bounds=bounds)\n",
    "som_img.opts(title=\"Исходная карта весов\", height=350,width=350, xaxis='bare',yaxis='bare') \n",
    "train_img+som_img"
   ]
  },
  {
   "cell_type": "code",
   "execution_count": null,
   "id": "fe0924f9-c105-49d5-b5e4-f4094d831d5f",
   "metadata": {},
   "outputs": [],
   "source": [
    "import progressbar\n",
    "SOM_dict={}\n",
    "max_epoch = 15\n",
    "SOM = SOM_init.copy()\n",
    "with progressbar.ProgressBar(max_value=max_epoch, enable_colors=False) as bar:\n",
    "    bar.init()\n",
    "    for epoch in range(0,max_epoch):\n",
    "        SOM = SOM_fit(SOM, train_data, learn_rate=0.001, radius_sq = 10)\n",
    "        SOM_dict[epoch]= hv.RGB(SOM.copy(), bounds=bounds).opts(title=\"Карта весов\",height=350,width=350, xaxis='bare',yaxis='bare') \n",
    "        bar.next()\n"
   ]
  },
  {
   "cell_type": "code",
   "execution_count": null,
   "id": "cf5effc4-eba2-42d0-84c8-1730053183ee",
   "metadata": {},
   "outputs": [],
   "source": [
    "hmap = hv.HoloMap(SOM_dict, kdims=['Эпоха'])\n",
    "(som_img+hmap).opts(height=400,width=100)"
   ]
  },
  {
   "cell_type": "code",
   "execution_count": null,
   "id": "2d38abcf-e67e-4bb7-98e8-2d615263dc4f",
   "metadata": {},
   "outputs": [],
   "source": []
  }
 ],
 "metadata": {
  "kernelspec": {
   "display_name": "Python 3 (ipykernel)",
   "language": "python",
   "name": "python3"
  },
  "language_info": {
   "codemirror_mode": {
    "name": "ipython",
    "version": 3
   },
   "file_extension": ".py",
   "mimetype": "text/x-python",
   "name": "python",
   "nbconvert_exporter": "python",
   "pygments_lexer": "ipython3",
   "version": "3.12.4"
  }
 },
 "nbformat": 4,
 "nbformat_minor": 5
}
