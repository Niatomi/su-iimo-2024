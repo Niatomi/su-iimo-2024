{
 "cells": [
  {
   "cell_type": "code",
   "execution_count": null,
   "id": "8539fa65-8e3a-4d3d-9cf1-eb9b1d98ebc2",
   "metadata": {},
   "outputs": [],
   "source": [
    "import pandas as pd\n",
    "import numpy as np\n",
    "from sklearn.datasets import load_wine\n",
    "from matplotlib import pyplot as plt\n",
    "\n",
    "from sklearn.metrics import classification_report\n",
    "from sklearn.metrics import confusion_matrix\n",
    "from sklearn.metrics import accuracy_score\n",
    "\n",
    "import warnings\n",
    "warnings.filterwarnings(\"ignore\", category=DeprecationWarning)\n",
    "warnings.filterwarnings(\"ignore\", category=FutureWarning)\n",
    "warnings.filterwarnings(\"ignore\", category=UserWarning)"
   ]
  },
  {
   "cell_type": "code",
   "execution_count": null,
   "id": "f4c249ff-ed3e-4f5e-93a0-012300804c77",
   "metadata": {},
   "outputs": [],
   "source": [
    "wine = load_wine(as_frame=True)\n",
    "X = wine.data\n",
    "y = wine.target\n",
    "columns = wine.frame.columns.to_list()\n",
    "X.describe()"
   ]
  },
  {
   "cell_type": "code",
   "execution_count": null,
   "id": "1d5af1e4-81ef-4af7-8191-a7df5c1f8423",
   "metadata": {},
   "outputs": [],
   "source": [
    "from sklearn.tree import DecisionTreeClassifier \n",
    "from sklearn.tree import plot_tree\n",
    "clf = DecisionTreeClassifier(max_depth=2, random_state = 0)\n",
    "model = clf.fit(X, y)\n",
    "clf_pred = clf.predict(X)\n",
    "clf_acc = accuracy_score(y, clf_pred)\n",
    "print(\"%s accuracy %f\" %  (\"DecisionTreeClassifier\" , clf_acc))\n",
    "print(confusion_matrix(y, clf_pred))\n",
    "print(classification_report(y, clf_pred))"
   ]
  },
  {
   "cell_type": "code",
   "execution_count": null,
   "id": "f8525ed5-726e-496f-b4f5-ff67b291bbb9",
   "metadata": {},
   "outputs": [],
   "source": [
    "plt.figure(figsize=(20,10))\n",
    "plot_tree(clf, feature_names=wine.feature_names,\n",
    "          class_names=wine.target_names,\n",
    "          filled=True)"
   ]
  },
  {
   "cell_type": "code",
   "execution_count": null,
   "id": "cfa85f7a-4de6-46a3-a093-d80287e0dcac",
   "metadata": {},
   "outputs": [],
   "source": [
    "import dtreeviz \n",
    "viz = dtreeviz.model(clf, X, y,\n",
    "                target_name=\"target\",\n",
    "                feature_names=wine.feature_names,\n",
    "                     class_names=wine.target_names)\n",
    "\n",
    "viz.view()"
   ]
  },
  {
   "cell_type": "code",
   "execution_count": null,
   "id": "f3f1a03c",
   "metadata": {},
   "outputs": [],
   "source": [
    "from sklearn.ensemble import RandomForestClassifier\n",
    "clf = RandomForestClassifier(n_estimators=50, random_state = 333)\n",
    "clf.fit(X, y)\n",
    "clf_pred = clf.predict(X)\n",
    "clf_acc = accuracy_score(y, clf_pred)\n",
    "print(\"%s accuracy %f\" %  (\"DecisionTreeClassifier\" , clf_acc))\n",
    "print(confusion_matrix(y, clf_pred))\n",
    "print(classification_report(y, clf_pred))"
   ]
  },
  {
   "cell_type": "code",
   "execution_count": null,
   "id": "424cdd3a",
   "metadata": {},
   "outputs": [],
   "source": [
    "plt.figure(figsize=(18,8))\n",
    "for pic in range(1,7):\n",
    "    ax = plt.subplot(2, 3, pic)\n",
    "    plot_tree(clf.estimators_[pic], feature_names=wine.feature_names,\n",
    "          class_names=wine.target_names, filled = True);\n",
    "plt.subplots_adjust(wspace=0.1, hspace=0.4) "
   ]
  },
  {
   "cell_type": "code",
   "execution_count": null,
   "id": "83ab3250-6744-45b8-9d0c-65d4cb5f5b61",
   "metadata": {},
   "outputs": [],
   "source": [
    "from sklearn import preprocessing\n",
    "#scaler = preprocessing.MinMaxScaler()\n",
    "scaler = preprocessing.StandardScaler()\n",
    "scaled_features = scaler.fit_transform(X)\n",
    "X = pd.DataFrame(scaled_features, index=X.index, columns=X.columns)\n",
    "X.describe()"
   ]
  },
  {
   "cell_type": "markdown",
   "id": "65f2a737-4e9b-4444-b51e-f4faa9a0b4b9",
   "metadata": {},
   "source": [
    "Задание. Для заданного набора признаков построить дерево решений. Определить минимальную высоту деревьев в случайном лесе, обеспечивающию наибольшую точность. Определить минимальное число деревьев в случайном лесе обеспечивающих наибольшую точность. Сравнить результаты. Сделать вывод."
   ]
  }
 ],
 "metadata": {
  "kernelspec": {
   "display_name": "Python 3 (ipykernel)",
   "language": "python",
   "name": "python3"
  },
  "language_info": {
   "codemirror_mode": {
    "name": "ipython",
    "version": 3
   },
   "file_extension": ".py",
   "mimetype": "text/x-python",
   "name": "python",
   "nbconvert_exporter": "python",
   "pygments_lexer": "ipython3",
   "version": "3.12.4"
  }
 },
 "nbformat": 4,
 "nbformat_minor": 5
}
