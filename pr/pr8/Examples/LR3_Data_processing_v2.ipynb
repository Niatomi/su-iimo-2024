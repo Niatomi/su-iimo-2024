{
 "cells": [
  {
   "cell_type": "code",
   "execution_count": 1,
   "metadata": {},
   "outputs": [
    {
     "name": "stderr",
     "output_type": "stream",
     "text": [
      "C:\\Users\\oKata\\anaconda3\\lib\\site-packages\\pandas\\core\\computation\\expressions.py:20: UserWarning: Pandas requires version '2.7.3' or newer of 'numexpr' (version '2.7.1' currently installed).\n",
      "  from pandas.core.computation.check import NUMEXPR_INSTALLED\n"
     ]
    }
   ],
   "source": [
    "import pandas as pd\n",
    "import numpy as np\n",
    "import os\n",
    "\n",
    "from sklearn.decomposition import PCA"
   ]
  },
  {
   "cell_type": "code",
   "execution_count": 2,
   "metadata": {},
   "outputs": [],
   "source": [
    "\"\"\"\n",
    "Класс логистической регрессии был модифицирован и теперь метод fit возвращает список со значениями\n",
    "функции ошибки (binary cross-entropy) на каждой итерации обучения.\n",
    "\n",
    "Вы можете сравнивать графики функции ошибки для модели, обученной на `сырых данных` (пункт 1.1), и для модели, \n",
    "обученной на трансформированных данных (данные из пункта 1.3), для анализа влияния трансформаций на динамику обучения модели \n",
    "(ускорение обучения, ошибка ниже на первой итерации и т.д.).\n",
    "\"\"\"\n",
    "\n",
    "def sigmoid(x):\n",
    "    return 1 / (1 + np.exp(-x))\n",
    "\n",
    "\n",
    "def binary_cross_entropy(pred, label):\n",
    "    return -np.mean(label * np.log(pred + 1e-6) + (1. - label) * np.log(1 - pred + 1e-6))\n",
    "\n",
    "\n",
    "class LogisticRegression:\n",
    "    def __init__(self, dim=2):\n",
    "        rng = np.random.default_rng(seed=0)\n",
    "        self.w = rng.normal(size=(dim, 1)) / np.sqrt(dim)\n",
    "        self.b = np.zeros((1,))\n",
    "        \n",
    "    def predict(self, x, probs=False):\n",
    "        # x - np.array размерности [N, dim]\n",
    "        #     Массив входных признаков.\n",
    "        assert x.shape[1] == self.w.shape[0], \\\n",
    "            \"Размерность экземпляров данных не соответствует ожидаемой: \" + \\\n",
    "            f\"ожидалось x.shape[1]={self.w.shape[0]}, но было получено x.shape[1]={x.shape[1]}\"\n",
    "        x = x.dot(self.w) + self.b\n",
    "        p = sigmoid(x)\n",
    "        if probs:\n",
    "            return p\n",
    "        return np.array(p > 0.5).astype('int32')\n",
    "        \n",
    "    def fit(self, x, y, iters=300, lr=0.1):\n",
    "        # x - np.array размерности [N, dim]\n",
    "        #     Массив входных признаков.\n",
    "        # y - np.array размернсоти [N]\n",
    "        #     Массив меток (правильных ответов).\n",
    "        assert len(x) == len(y), \\\n",
    "            \"Количество экземпляров в массиве X не равно количеству меток в массиве Y. \" + \\\n",
    "            f\"Полученные размеры: len(X) = {len(x)}, len(Y) = {len(y)}.\"\n",
    "        assert x.shape[1] == self.w.shape[0], \\\n",
    "            \"Размерность экземпляров данных не соответствует ожидаемой: \" + \\\n",
    "            f\"ожидалось x.shape[1]={self.w.shape[0]}, но было получено x.shape[1]={x.shape[1]}\"\n",
    "        y = y.reshape(-1, 1)\n",
    "        loss = []\n",
    "        for i in range(iters):\n",
    "            preds = self.predict(x, probs=True)\n",
    "            self.w -= lr * x.T.dot(preds - y) / y.shape[0]\n",
    "            self.b -= lr * np.mean(preds - y, axis=0)\n",
    "            loss.append(binary_cross_entropy(preds, y))\n",
    "        return loss"
   ]
  },
  {
   "cell_type": "code",
   "execution_count": 3,
   "metadata": {},
   "outputs": [],
   "source": [
    "def load_data(folder_path):\n",
    "    x_train = pd.read_csv(os.path.join(folder_path, 'x_train.csv'))\n",
    "    y_train = pd.read_csv(os.path.join(folder_path, 'y_train.csv'))\n",
    "    x_test = pd.read_csv(os.path.join(folder_path, 'x_test.csv'))\n",
    "    y_test = pd.read_csv(os.path.join(folder_path, 'y_test.csv'))\n",
    "    return x_train, y_train, x_test, y_test"
   ]
  },
  {
   "cell_type": "code",
   "execution_count": 4,
   "metadata": {},
   "outputs": [],
   "source": [
    "x_train, y_train, x_test, y_test = load_data('lr3_dataset/')"
   ]
  },
  {
   "cell_type": "code",
   "execution_count": 5,
   "metadata": {},
   "outputs": [
    {
     "data": {
      "text/html": [
       "<div>\n",
       "<style scoped>\n",
       "    .dataframe tbody tr th:only-of-type {\n",
       "        vertical-align: middle;\n",
       "    }\n",
       "\n",
       "    .dataframe tbody tr th {\n",
       "        vertical-align: top;\n",
       "    }\n",
       "\n",
       "    .dataframe thead th {\n",
       "        text-align: right;\n",
       "    }\n",
       "</style>\n",
       "<table border=\"1\" class=\"dataframe\">\n",
       "  <thead>\n",
       "    <tr style=\"text-align: right;\">\n",
       "      <th></th>\n",
       "      <th>statuses_count</th>\n",
       "      <th>followers_count</th>\n",
       "      <th>friends_count</th>\n",
       "      <th>favourites_count</th>\n",
       "      <th>listed_count</th>\n",
       "      <th>is_default_profile</th>\n",
       "      <th>is_profile_use_background_image</th>\n",
       "      <th>user_age</th>\n",
       "      <th>tweets_freq</th>\n",
       "      <th>followers_growth_rate</th>\n",
       "      <th>friends_growth_rate</th>\n",
       "      <th>favourites_growth_rate</th>\n",
       "      <th>listed_growth_rate</th>\n",
       "      <th>followers_friends_ratio</th>\n",
       "      <th>screen_name_length</th>\n",
       "      <th>num_digits_in_screen_name</th>\n",
       "      <th>length_of_name</th>\n",
       "      <th>num_digits_in_name</th>\n",
       "      <th>description_length</th>\n",
       "    </tr>\n",
       "  </thead>\n",
       "  <tbody>\n",
       "    <tr>\n",
       "      <th>0</th>\n",
       "      <td>38278</td>\n",
       "      <td>19692</td>\n",
       "      <td>3289</td>\n",
       "      <td>40071</td>\n",
       "      <td>335</td>\n",
       "      <td>0</td>\n",
       "      <td>1</td>\n",
       "      <td>4278</td>\n",
       "      <td>8.947639</td>\n",
       "      <td>4.603086</td>\n",
       "      <td>0.768817</td>\n",
       "      <td>9.366760</td>\n",
       "      <td>0.078308</td>\n",
       "      <td>5.987230</td>\n",
       "      <td>10</td>\n",
       "      <td>0</td>\n",
       "      <td>11</td>\n",
       "      <td>0</td>\n",
       "      <td>136</td>\n",
       "    </tr>\n",
       "    <tr>\n",
       "      <th>1</th>\n",
       "      <td>97523</td>\n",
       "      <td>54632</td>\n",
       "      <td>3544</td>\n",
       "      <td>1563</td>\n",
       "      <td>1091</td>\n",
       "      <td>0</td>\n",
       "      <td>0</td>\n",
       "      <td>4583</td>\n",
       "      <td>21.279293</td>\n",
       "      <td>11.920576</td>\n",
       "      <td>0.773293</td>\n",
       "      <td>0.341043</td>\n",
       "      <td>0.238054</td>\n",
       "      <td>15.415350</td>\n",
       "      <td>13</td>\n",
       "      <td>2</td>\n",
       "      <td>13</td>\n",
       "      <td>2</td>\n",
       "      <td>156</td>\n",
       "    </tr>\n",
       "    <tr>\n",
       "      <th>2</th>\n",
       "      <td>13533</td>\n",
       "      <td>2835</td>\n",
       "      <td>1246</td>\n",
       "      <td>1217</td>\n",
       "      <td>95</td>\n",
       "      <td>0</td>\n",
       "      <td>1</td>\n",
       "      <td>4629</td>\n",
       "      <td>2.923526</td>\n",
       "      <td>0.612443</td>\n",
       "      <td>0.269173</td>\n",
       "      <td>0.262908</td>\n",
       "      <td>0.020523</td>\n",
       "      <td>2.275281</td>\n",
       "      <td>7</td>\n",
       "      <td>2</td>\n",
       "      <td>11</td>\n",
       "      <td>0</td>\n",
       "      <td>119</td>\n",
       "    </tr>\n",
       "    <tr>\n",
       "      <th>3</th>\n",
       "      <td>13159</td>\n",
       "      <td>13950</td>\n",
       "      <td>2009</td>\n",
       "      <td>9477</td>\n",
       "      <td>161</td>\n",
       "      <td>0</td>\n",
       "      <td>0</td>\n",
       "      <td>4256</td>\n",
       "      <td>3.091870</td>\n",
       "      <td>3.277726</td>\n",
       "      <td>0.472039</td>\n",
       "      <td>2.226739</td>\n",
       "      <td>0.037829</td>\n",
       "      <td>6.943753</td>\n",
       "      <td>14</td>\n",
       "      <td>0</td>\n",
       "      <td>14</td>\n",
       "      <td>0</td>\n",
       "      <td>108</td>\n",
       "    </tr>\n",
       "    <tr>\n",
       "      <th>4</th>\n",
       "      <td>34670</td>\n",
       "      <td>19234</td>\n",
       "      <td>544</td>\n",
       "      <td>6587</td>\n",
       "      <td>121</td>\n",
       "      <td>1</td>\n",
       "      <td>1</td>\n",
       "      <td>3280</td>\n",
       "      <td>10.570122</td>\n",
       "      <td>5.864024</td>\n",
       "      <td>0.165854</td>\n",
       "      <td>2.008232</td>\n",
       "      <td>0.036890</td>\n",
       "      <td>35.356618</td>\n",
       "      <td>6</td>\n",
       "      <td>0</td>\n",
       "      <td>16</td>\n",
       "      <td>0</td>\n",
       "      <td>159</td>\n",
       "    </tr>\n",
       "  </tbody>\n",
       "</table>\n",
       "</div>"
      ],
      "text/plain": [
       "   statuses_count  followers_count  friends_count  favourites_count  \\\n",
       "0           38278            19692           3289             40071   \n",
       "1           97523            54632           3544              1563   \n",
       "2           13533             2835           1246              1217   \n",
       "3           13159            13950           2009              9477   \n",
       "4           34670            19234            544              6587   \n",
       "\n",
       "   listed_count  is_default_profile  is_profile_use_background_image  \\\n",
       "0           335                   0                                1   \n",
       "1          1091                   0                                0   \n",
       "2            95                   0                                1   \n",
       "3           161                   0                                0   \n",
       "4           121                   1                                1   \n",
       "\n",
       "   user_age  tweets_freq  followers_growth_rate  friends_growth_rate  \\\n",
       "0      4278     8.947639               4.603086             0.768817   \n",
       "1      4583    21.279293              11.920576             0.773293   \n",
       "2      4629     2.923526               0.612443             0.269173   \n",
       "3      4256     3.091870               3.277726             0.472039   \n",
       "4      3280    10.570122               5.864024             0.165854   \n",
       "\n",
       "   favourites_growth_rate  listed_growth_rate  followers_friends_ratio  \\\n",
       "0                9.366760            0.078308                 5.987230   \n",
       "1                0.341043            0.238054                15.415350   \n",
       "2                0.262908            0.020523                 2.275281   \n",
       "3                2.226739            0.037829                 6.943753   \n",
       "4                2.008232            0.036890                35.356618   \n",
       "\n",
       "   screen_name_length  num_digits_in_screen_name  length_of_name  \\\n",
       "0                  10                          0              11   \n",
       "1                  13                          2              13   \n",
       "2                   7                          2              11   \n",
       "3                  14                          0              14   \n",
       "4                   6                          0              16   \n",
       "\n",
       "   num_digits_in_name  description_length  \n",
       "0                   0                 136  \n",
       "1                   2                 156  \n",
       "2                   0                 119  \n",
       "3                   0                 108  \n",
       "4                   0                 159  "
      ]
     },
     "execution_count": 5,
     "metadata": {},
     "output_type": "execute_result"
    }
   ],
   "source": [
    "x_train.head()"
   ]
  },
  {
   "cell_type": "markdown",
   "metadata": {},
   "source": [
    "В данной лабораторной работе будет практиковаться обработка данных на примере датасета для задачи распознавания ботов в социальной сети Твиттер. Класс 0 означает человек, класс 1 означает бот. `Обучите модель так, чтобы вероятность пропуска бота составляла менее 4% (данный порог может быть ослаблен в зависимости от общих результатов лабораторных). Значение метрики F1 должно быть не менее 0.95.`\n",
    "\n",
    "Требование: использовать лишь 10 признаков (это могут быть либо сгенерированные признаки, либо отобранные)."
   ]
  },
  {
   "cell_type": "markdown",
   "metadata": {},
   "source": [
    "Допускается коллаборация (использование подходов к обработке данных, придуманных другими студентами) при условии ссылки на автора подхода в комментариях к коду (фамилия и инициалы)."
   ]
  },
  {
   "cell_type": "markdown",
   "metadata": {},
   "source": [
    "## 1.1 Обучение baseline модели"
   ]
  },
  {
   "cell_type": "markdown",
   "metadata": {},
   "source": [
    "Указание: `в данном пункте не применяйте трансформации к данным за рамками указанных`. Это необходимо для того, чтобы вы могли проводить сравнение в дальнейшем для лучшего понимания влияния вашего подхода к обработке данных на качество модели. Обучение baseline модели - стандартная практика, что даёт вам минимально рабочую модель и при этом позволяет отслеживать ваш прогресс."
   ]
  },
  {
   "cell_type": "code",
   "execution_count": null,
   "metadata": {},
   "outputs": [],
   "source": [
    "# Снизьте размерность данных одним из способов:\n",
    "# 1. вручную отобрав 10 признаков\n",
    "# 2. используя PCA (from sklearn.decomposition import PCA)\n",
    "# Указание: не нормализуйте данные (min/max, mean/std и прочее).\n",
    "\n",
    "# Напишите ваш код здесь."
   ]
  },
  {
   "cell_type": "code",
   "execution_count": null,
   "metadata": {},
   "outputs": [],
   "source": [
    "# Обучите модель логистической регрессии на данных из клетки выше.\n",
    "\n",
    "# Напишите ваш код здесь."
   ]
  },
  {
   "cell_type": "code",
   "execution_count": 1,
   "metadata": {},
   "outputs": [],
   "source": [
    "# Оцените качество обученной модели (точность, матрица ошибок), взгляните на динамику изменения функции ошибки в ходе обучения.\n",
    "\n",
    "# Напишите ваш код здесь."
   ]
  },
  {
   "cell_type": "markdown",
   "metadata": {},
   "source": [
    "## 1.2 Анализ данных"
   ]
  },
  {
   "cell_type": "code",
   "execution_count": null,
   "metadata": {},
   "outputs": [],
   "source": [
    "# Проведите анализ данных (наличие выбросов, визуализация распределения отдельных признаков и т.д.).\n",
    "\n",
    "# Напишите ваш код здесь."
   ]
  },
  {
   "cell_type": "code",
   "execution_count": null,
   "metadata": {},
   "outputs": [],
   "source": [
    "# 1. Опишите в данной клетке ваши наблюдения.\n",
    "# 2. Предложите идеи к обработке/улучшению качества данных.\n"
   ]
  },
  {
   "cell_type": "markdown",
   "metadata": {},
   "source": [
    "## 1.3 Обработка данных"
   ]
  },
  {
   "cell_type": "code",
   "execution_count": null,
   "metadata": {},
   "outputs": [],
   "source": [
    "# Реализуйте идеи по нормировке/улучшению качества данных.\n",
    "\n",
    "# Напишите ваш код здесь."
   ]
  },
  {
   "cell_type": "markdown",
   "metadata": {},
   "source": [
    "## 1.4 Обучение итоговой модели"
   ]
  },
  {
   "cell_type": "code",
   "execution_count": null,
   "metadata": {},
   "outputs": [],
   "source": [
    "# Обучите модель на трансформированных данных.\n",
    "\n",
    "# Напишите ваш код здесь."
   ]
  },
  {
   "cell_type": "code",
   "execution_count": null,
   "metadata": {},
   "outputs": [],
   "source": [
    "# Оцените качество обученной модели (точность, матрица ошибок).\n",
    "# Взгляните (matplotlib) на динамику изменения функции ошибки в ходе обучения.\n",
    "\n",
    "# Напишите ваш код здесь."
   ]
  },
  {
   "cell_type": "code",
   "execution_count": 3,
   "metadata": {},
   "outputs": [],
   "source": [
    "# Сравните результат с моделью из пункта 1.1.\n",
    "# Опишите выводы в этой клетке."
   ]
  },
  {
   "cell_type": "markdown",
   "metadata": {},
   "source": [
    "## 2. Доп. задание (опционально)"
   ]
  },
  {
   "cell_type": "markdown",
   "metadata": {},
   "source": [
    "В некоторых случаях вместо балансировки классов на уровне данных (как в ЛР1) используется балансировка на алгоритмическом уровне: \n",
    "взвешиваются значения функции ошибки для разных классов (большие веса используются для редких классов, малые веса для доминирующих классов), чтобы модель во время обучения 'фокусировалась' на редких классах. В данной лабораторной работе балансировка на уровне данных возможна, однако рассмотрение алгоритмического подхода даст вам еще один полезный практический инструмент.\n",
    "\n",
    "Модифицируйте класс логистической регрессии так, чтобы во время обучения значения функции ошибки взвешивались для разных классов. \n",
    "Изменения будут представлять собой взвешивание индивидуальных градиентов (строки кода 28 и 29) для отдельных экземпляров данных.\n",
    "\n",
    "Указание: не изменяйте код, связанный с вычислением `binary_cross_entropy`.\n",
    "\n",
    "Сложность: энтузиаст-математик."
   ]
  },
  {
   "cell_type": "code",
   "execution_count": null,
   "metadata": {},
   "outputs": [],
   "source": [
    "def sigmoid(x):\n",
    "    return 1 / (1 + np.exp(-x))\n",
    "\n",
    "\n",
    "def binary_cross_entropy(pred, label):\n",
    "    return -np.mean(label * np.log(pred + 1e-6) + (1. - label) * np.log(1 - pred + 1e-6))\n",
    "\n",
    "\n",
    "class LogisticRegression:\n",
    "    def __init__(self, dim=2, class_weight=None):\n",
    "        rng = np.random.default_rng(seed=0)\n",
    "        self.w = rng.normal(size=(dim, 1)) / np.sqrt(dim)\n",
    "        self.b = np.zeros((1,))\n",
    "        self.class_weight = class_weight\n",
    "        \n",
    "    def predict(self, x, probs=False):\n",
    "        # x - np.array размерности [N, dim]\n",
    "        #     Массив входных признаков.\n",
    "        assert x.shape[1] == self.w.shape[0], \\\n",
    "            \"Размерность экземпляров данных не соответствует ожидаемой: \" + \\\n",
    "            f\"ожидалось x.shape[1]={self.w.shape[0]}, но было получено x.shape[1]={x.shape[1]}\"\n",
    "        x = x.dot(self.w) + self.b\n",
    "        p = sigmoid(x)\n",
    "        if probs:\n",
    "            return p\n",
    "        return np.array(p > 0.5).astype('int32')\n",
    "        \n",
    "    def fit(self, x, y, iters=300, lr=0.1):\n",
    "        # x - np.array размерности [N, dim]\n",
    "        #     Массив входных признаков.\n",
    "        # y - np.array размернсоти [N]\n",
    "        #     Массив меток (правильных ответов).\n",
    "        assert len(x) == len(y), \\\n",
    "            \"Количество экземпляров в массиве X не равно количеству меток в массиве Y. \" + \\\n",
    "            f\"Полученные размеры: len(X) = {len(x)}, len(Y) = {len(y)}.\"\n",
    "        assert x.shape[1] == self.w.shape[0], \\\n",
    "            \"Размерность экземпляров данных не соответствует ожидаемой: \" + \\\n",
    "            f\"ожидалось x.shape[1]={self.w.shape[0]}, но было получено x.shape[1]={x.shape[1]}\"\n",
    "        \n",
    "        # ВНЕСИТЕ МОДИФИКАЦИИ ЗДЕСЬ.\n",
    "        # ----------------------------------------------------\n",
    "        y = y.reshape(-1, 1)\n",
    "        loss = []\n",
    "        for i in range(iters):\n",
    "            preds = self.predict(x, probs=True)\n",
    "            self.w -= lr * x.T.dot(preds - y) / y.shape[0]\n",
    "            self.b -= lr * np.mean(preds - y, axis=0)\n",
    "            loss.append(binary_cross_entropy(preds, y))\n",
    "        # ----------------------------------------------------\n",
    "        return loss"
   ]
  },
  {
   "cell_type": "markdown",
   "metadata": {},
   "source": [
    "### 2.1 Обучение без взвешивания"
   ]
  },
  {
   "cell_type": "code",
   "execution_count": null,
   "metadata": {},
   "outputs": [],
   "source": [
    "# Создайте и обучите новую модель на данных из пункта 1.4 без использования взвешивания (коэффициенты 1/1). \n",
    "# Сохраните возвращенные значения функции ошибки, визуализируйте их.\n",
    "\n",
    "# Напишите ваш код здесь."
   ]
  },
  {
   "cell_type": "code",
   "execution_count": null,
   "metadata": {},
   "outputs": [],
   "source": [
    "# Оцените качество обученной модели (точность, матрица ошибок).\n",
    "# Убедитесь, что результаты схожи с результатами из пункта 1.4 (в идеале они должны быть равны).\n",
    "\n",
    "# Напишите ваш код здесь."
   ]
  },
  {
   "cell_type": "markdown",
   "metadata": {},
   "source": [
    "### 2.2 Обучение с большим весом на классе 0"
   ]
  },
  {
   "cell_type": "code",
   "execution_count": null,
   "metadata": {},
   "outputs": [],
   "source": [
    "# Создайте и обучите новую модель на данных из пункта 1.4 с большим весом на классе 0 (например 10|1) \n",
    "# Сохраните возвращенные значения функции ошибки.\n",
    "\n",
    "# Напишите ваш код здесь."
   ]
  },
  {
   "cell_type": "code",
   "execution_count": null,
   "metadata": {},
   "outputs": [],
   "source": [
    "# Визуализируйте значения функции ошибки из пункта 2.1 и из текущего пункта.\n",
    "\n",
    "# Напишите ваш код здесь."
   ]
  },
  {
   "cell_type": "code",
   "execution_count": null,
   "metadata": {},
   "outputs": [],
   "source": [
    "# Оцените качество обученной модели (точность, матрица ошибок).\n",
    "\n",
    "# Напишите ваш код здесь."
   ]
  },
  {
   "cell_type": "code",
   "execution_count": null,
   "metadata": {},
   "outputs": [],
   "source": [
    "# Сравните матрицу ошибок с матрицей из пункта 2.1.\n",
    "\n",
    "# Напишите ваши выводы здесь."
   ]
  },
  {
   "cell_type": "markdown",
   "metadata": {},
   "source": [
    "### 2.3 Обучение с большим весом на классе 1"
   ]
  },
  {
   "cell_type": "code",
   "execution_count": null,
   "metadata": {},
   "outputs": [],
   "source": [
    "# Создайте и обучите новую модель на данных из пункта 1.4 с большим весом на классе 0 (например 1|10) \n",
    "# Сохраните возвращенные значения функции ошибки.\n",
    "\n",
    "# Напишите ваш код здесь."
   ]
  },
  {
   "cell_type": "code",
   "execution_count": null,
   "metadata": {},
   "outputs": [],
   "source": [
    "# Визуализируйте значения функции ошибки из пунктов 2.1, 2.2 и из текущего пункта.\n",
    "\n",
    "# Напишите ваш код здесь."
   ]
  },
  {
   "cell_type": "code",
   "execution_count": null,
   "metadata": {},
   "outputs": [],
   "source": [
    "# Оцените качество обученной модели (точность, матрица ошибок).\n",
    "\n",
    "# Напишите ваш код здесь."
   ]
  },
  {
   "cell_type": "code",
   "execution_count": null,
   "metadata": {},
   "outputs": [],
   "source": [
    "# Сравните матрицу ошибок с матрицами из пунктов 2.1, 2.2.\n",
    "\n",
    "# Напишите ваши выводы здесь."
   ]
  },
  {
   "cell_type": "markdown",
   "metadata": {},
   "source": [
    "### 2.4 Обучение с оптимальными весами"
   ]
  },
  {
   "cell_type": "code",
   "execution_count": null,
   "metadata": {},
   "outputs": [],
   "source": [
    "# Создайте и обучите новую модель на данных из пункта 1.4.\n",
    "# Найдите веса, что дают более высокую точность, нежели точность из пункта 1.4.\n",
    "# Сохраните возвращенные значения функции ошибки.\n",
    "\n",
    "# Напишите ваш код здесь."
   ]
  },
  {
   "cell_type": "code",
   "execution_count": null,
   "metadata": {},
   "outputs": [],
   "source": [
    "# Визуализируйте значения функции ошибки из пунктов 2.1, 2.2, 2.3 и из текущего пункта.\n",
    "\n",
    "# Напишите ваш код здесь."
   ]
  },
  {
   "cell_type": "code",
   "execution_count": null,
   "metadata": {},
   "outputs": [],
   "source": [
    "# Оцените качество обученной модели (точность, матрица ошибок).\n",
    "\n",
    "# Напишите ваш код здесь."
   ]
  },
  {
   "cell_type": "code",
   "execution_count": null,
   "metadata": {},
   "outputs": [],
   "source": [
    "# Сравните матрицу ошибок с матрицей из пункта 2.1.\n",
    "\n",
    "# Напишите ваши выводы здесь."
   ]
  }
 ],
 "metadata": {
  "kernelspec": {
   "display_name": "Python 3 (ipykernel)",
   "language": "python",
   "name": "python3"
  },
  "language_info": {
   "codemirror_mode": {
    "name": "ipython",
    "version": 3
   },
   "file_extension": ".py",
   "mimetype": "text/x-python",
   "name": "python",
   "nbconvert_exporter": "python",
   "pygments_lexer": "ipython3",
   "version": "3.11.5"
  },
  "vscode": {
   "interpreter": {
    "hash": "49f1eb4f699f8b7f88f87f53f4084be312a6bc427f9bdec3a6d063aeb53c0623"
   }
  }
 },
 "nbformat": 4,
 "nbformat_minor": 4
}
